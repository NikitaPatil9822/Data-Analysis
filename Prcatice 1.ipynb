{
 "cells": [
  {
   "cell_type": "code",
   "execution_count": 1,
   "id": "63a06a21-b127-4103-87ff-73047d6996c9",
   "metadata": {},
   "outputs": [],
   "source": [
    "import numpy as np\n"
   ]
  },
  {
   "cell_type": "code",
   "execution_count": 2,
   "id": "10de2f67-bdcb-46ab-b0f9-56bdf12e0b3d",
   "metadata": {},
   "outputs": [
    {
     "name": "stdout",
     "output_type": "stream",
     "text": [
      "1.26.4\n",
      "Build Dependencies:\n",
      "  blas:\n",
      "    detection method: pkgconfig\n",
      "    found: true\n",
      "    include directory: C:/Users/Nikku28/anaconda3/Library/include\n",
      "    lib directory: C:/Users/Nikku28/anaconda3/Library/lib\n",
      "    name: mkl-sdl\n",
      "    openblas configuration: unknown\n",
      "    pc file directory: C:\\b\\abs_c1ywpu18ar\\croot\\numpy_and_numpy_base_1708638681471\\_h_env\\Library\\lib\\pkgconfig\n",
      "    version: '2023.1'\n",
      "  lapack:\n",
      "    detection method: internal\n",
      "    found: true\n",
      "    include directory: unknown\n",
      "    lib directory: unknown\n",
      "    name: dep1868282989520\n",
      "    openblas configuration: unknown\n",
      "    pc file directory: unknown\n",
      "    version: 1.26.4\n",
      "Compilers:\n",
      "  c:\n",
      "    commands: cl.exe\n",
      "    linker: link\n",
      "    name: msvc\n",
      "    version: 19.29.30154\n",
      "  c++:\n",
      "    commands: cl.exe\n",
      "    linker: link\n",
      "    name: msvc\n",
      "    version: 19.29.30154\n",
      "  cython:\n",
      "    commands: cython\n",
      "    linker: cython\n",
      "    name: cython\n",
      "    version: 3.0.8\n",
      "Machine Information:\n",
      "  build:\n",
      "    cpu: x86_64\n",
      "    endian: little\n",
      "    family: x86_64\n",
      "    system: windows\n",
      "  host:\n",
      "    cpu: x86_64\n",
      "    endian: little\n",
      "    family: x86_64\n",
      "    system: windows\n",
      "Python Information:\n",
      "  path: C:\\b\\abs_c1ywpu18ar\\croot\\numpy_and_numpy_base_1708638681471\\_h_env\\python.exe\n",
      "  version: '3.11'\n",
      "SIMD Extensions:\n",
      "  baseline:\n",
      "  - SSE\n",
      "  - SSE2\n",
      "  - SSE3\n",
      "  found:\n",
      "  - SSSE3\n",
      "  - SSE41\n",
      "  - POPCNT\n",
      "  - SSE42\n",
      "  - AVX\n",
      "  - F16C\n",
      "  - FMA3\n",
      "  - AVX2\n",
      "  not found:\n",
      "  - AVX512F\n",
      "  - AVX512CD\n",
      "  - AVX512_SKX\n",
      "  - AVX512_CLX\n",
      "  - AVX512_CNL\n",
      "  - AVX512_ICL\n",
      "\n"
     ]
    }
   ],
   "source": [
    "print(np.__version__)\n",
    "np.show_config()"
   ]
  },
  {
   "cell_type": "code",
   "execution_count": 3,
   "id": "2dc13c77-10db-449b-beed-a282b4990893",
   "metadata": {},
   "outputs": [
    {
     "name": "stdout",
     "output_type": "stream",
     "text": [
      "[0. 0. 0. 0. 0. 0. 0. 0. 0. 0.]\n"
     ]
    }
   ],
   "source": [
    "Z = np.zeros(10)\n",
    "print(Z)"
   ]
  },
  {
   "cell_type": "code",
   "execution_count": 4,
   "id": "be425940-ef59-45df-9c4a-7520d983f20c",
   "metadata": {},
   "outputs": [
    {
     "name": "stdout",
     "output_type": "stream",
     "text": [
      "800 bytes\n"
     ]
    }
   ],
   "source": [
    "Z = np.zeros((10,10))\n",
    "print(\"%d bytes\" % (Z.size * Z.itemsize))"
   ]
  },
  {
   "cell_type": "code",
   "execution_count": 5,
   "id": "920e6d2c-f057-4f2e-ab49-de8654d40a8f",
   "metadata": {},
   "outputs": [],
   "source": [
    "# %run 'python -c \"import numpy; numpy.info(numpy.add)\"'"
   ]
  },
  {
   "cell_type": "code",
   "execution_count": 5,
   "id": "9425951c-3f87-4813-80e6-a2ead4fd9f33",
   "metadata": {},
   "outputs": [
    {
     "name": "stdout",
     "output_type": "stream",
     "text": [
      "[0. 0. 0. 0. 1. 0. 0. 0. 0. 0.]\n"
     ]
    }
   ],
   "source": [
    "Z = np.zeros(10)\n",
    "Z[4] = 1\n",
    "print(Z)"
   ]
  },
  {
   "cell_type": "code",
   "execution_count": 6,
   "id": "9c9df517-289b-4047-86dc-46497235a1ee",
   "metadata": {},
   "outputs": [
    {
     "name": "stdout",
     "output_type": "stream",
     "text": [
      "[10 11 12 13 14 15 16 17 18 19 20 21 22 23 24 25 26 27 28 29 30 31 32 33\n",
      " 34 35 36 37 38 39 40 41 42 43 44 45 46 47 48 49]\n"
     ]
    }
   ],
   "source": [
    "Z = np.arange(10, 50)\n",
    "print(Z)"
   ]
  },
  {
   "cell_type": "code",
   "execution_count": 7,
   "id": "86b22600-3de4-404a-af2b-64da1c3122f7",
   "metadata": {},
   "outputs": [
    {
     "name": "stdout",
     "output_type": "stream",
     "text": [
      "[49 48 47 46 45 44 43 42 41 40 39 38 37 36 35 34 33 32 31 30 29 28 27 26\n",
      " 25 24 23 22 21 20 19 18 17 16 15 14 13 12 11 10  9  8  7  6  5  4  3  2\n",
      "  1  0]\n"
     ]
    }
   ],
   "source": [
    "Z = np.arange(50)\n",
    "Z = Z[ ::-1]\n",
    "print(Z)"
   ]
  },
  {
   "cell_type": "code",
   "execution_count": 8,
   "id": "25332187-3f4c-450d-be44-7ee8195f732d",
   "metadata": {},
   "outputs": [
    {
     "name": "stdout",
     "output_type": "stream",
     "text": [
      "[[0 1 2]\n",
      " [3 4 5]\n",
      " [6 7 8]]\n"
     ]
    }
   ],
   "source": [
    "Z = np.arange(9).reshape(3,3)\n",
    "print(Z)"
   ]
  },
  {
   "cell_type": "code",
   "execution_count": 9,
   "id": "bb43b278-cce7-4c4f-bff5-dfc82b2e7dc9",
   "metadata": {},
   "outputs": [
    {
     "name": "stdout",
     "output_type": "stream",
     "text": [
      "(array([0, 1, 4], dtype=int64),)\n"
     ]
    }
   ],
   "source": [
    "nz = np.nonzero([1,2,0,0,4,0])\n",
    "print(nz)"
   ]
  },
  {
   "cell_type": "code",
   "execution_count": 10,
   "id": "34dabcdb-5fae-4db9-b2be-d2ff622fdce2",
   "metadata": {},
   "outputs": [
    {
     "name": "stdout",
     "output_type": "stream",
     "text": [
      "[[1. 0. 0.]\n",
      " [0. 1. 0.]\n",
      " [0. 0. 1.]]\n"
     ]
    }
   ],
   "source": [
    "Z = np.eye(3)\n",
    "print(Z)\n",
    "\n",
    "\n",
    "\n"
   ]
  },
  {
   "cell_type": "code",
   "execution_count": 11,
   "id": "f4b58e1f-47a5-458d-8a28-702807dbdfec",
   "metadata": {},
   "outputs": [
    {
     "name": "stdout",
     "output_type": "stream",
     "text": [
      "[[[0.64954102 0.22635251 0.83139585]\n",
      "  [0.76957699 0.56529565 0.42980962]\n",
      "  [0.1104461  0.42248804 0.29256649]]\n",
      "\n",
      " [[0.60315074 0.8092916  0.33917996]\n",
      "  [0.97508846 0.19496943 0.90755001]\n",
      "  [0.87721831 0.88308238 0.47701825]]\n",
      "\n",
      " [[0.19091188 0.90926019 0.65028536]\n",
      "  [0.47913768 0.43246361 0.36916897]\n",
      "  [0.12720477 0.60482539 0.09447065]]]\n"
     ]
    }
   ],
   "source": [
    "Z = np.random.random((3,3,3))\n",
    "print(Z)"
   ]
  },
  {
   "cell_type": "code",
   "execution_count": 12,
   "id": "9fdace74-b9a1-4a1b-9ab2-011468796182",
   "metadata": {},
   "outputs": [
    {
     "name": "stdout",
     "output_type": "stream",
     "text": [
      "0.029598447493376367 0.9934400870707278\n"
     ]
    }
   ],
   "source": [
    "Z = np.random.random((10, 10))\n",
    "Zmin, Zmax = Z.min(), Z.max()\n",
    "print(Zmin, Zmax)"
   ]
  },
  {
   "cell_type": "code",
   "execution_count": 13,
   "id": "7336d87b-9d97-46cb-a5df-edf4e5cde920",
   "metadata": {},
   "outputs": [
    {
     "name": "stdout",
     "output_type": "stream",
     "text": [
      "0.6163749850502894\n"
     ]
    }
   ],
   "source": [
    "Z = np.random.random(30)\n",
    "m = Z.mean()\n",
    "print(m)"
   ]
  },
  {
   "cell_type": "code",
   "execution_count": 14,
   "id": "713cfbcc-691e-461f-ac08-a3f076da9eab",
   "metadata": {},
   "outputs": [
    {
     "name": "stdout",
     "output_type": "stream",
     "text": [
      "[[1. 1. 1. 1. 1. 1. 1. 1. 1. 1.]\n",
      " [1. 0. 0. 0. 0. 0. 0. 0. 0. 1.]\n",
      " [1. 0. 0. 0. 0. 0. 0. 0. 0. 1.]\n",
      " [1. 0. 0. 0. 0. 0. 0. 0. 0. 1.]\n",
      " [1. 0. 0. 0. 0. 0. 0. 0. 0. 1.]\n",
      " [1. 0. 0. 0. 0. 0. 0. 0. 0. 1.]\n",
      " [1. 0. 0. 0. 0. 0. 0. 0. 0. 1.]\n",
      " [1. 0. 0. 0. 0. 0. 0. 0. 0. 1.]\n",
      " [1. 0. 0. 0. 0. 0. 0. 0. 0. 1.]\n",
      " [1. 1. 1. 1. 1. 1. 1. 1. 1. 1.]]\n"
     ]
    }
   ],
   "source": [
    "Z = np.ones((10, 10))\n",
    "Z[1:-1, 1:-1] = 0\n",
    "print(Z)"
   ]
  },
  {
   "cell_type": "code",
   "execution_count": 15,
   "id": "d22a1dbc-4ef6-4024-a1f4-c0fac070cbb9",
   "metadata": {},
   "outputs": [
    {
     "name": "stdout",
     "output_type": "stream",
     "text": [
      "[[0. 0. 0. 0. 0. 0. 0.]\n",
      " [0. 1. 1. 1. 1. 1. 0.]\n",
      " [0. 1. 1. 1. 1. 1. 0.]\n",
      " [0. 1. 1. 1. 1. 1. 0.]\n",
      " [0. 1. 1. 1. 1. 1. 0.]\n",
      " [0. 1. 1. 1. 1. 1. 0.]\n",
      " [0. 0. 0. 0. 0. 0. 0.]]\n"
     ]
    }
   ],
   "source": [
    "Z = np.ones((5,5))\n",
    "Z = np.pad(Z, pad_width = 1, mode='constant', constant_values=0)\n",
    "print(Z)"
   ]
  },
  {
   "cell_type": "code",
   "execution_count": 16,
   "id": "e17157c9-8f71-4941-b9f9-728b12193917",
   "metadata": {},
   "outputs": [
    {
     "name": "stdout",
     "output_type": "stream",
     "text": [
      "nan\n",
      "False\n",
      "False\n",
      "nan\n",
      "True\n",
      "False\n"
     ]
    }
   ],
   "source": [
    "print(0 * np.nan)\n",
    "print(np.nan == np.nan)\n",
    "print(np.inf > np.nan)\n",
    "print(np.nan - np.nan)\n",
    "print(np.nan in set([np.nan]))\n",
    "print(0.3 == 3*0.1)"
   ]
  },
  {
   "cell_type": "code",
   "execution_count": 17,
   "id": "eeccdacd-7040-4414-991a-64f0f2348bdf",
   "metadata": {},
   "outputs": [
    {
     "name": "stdout",
     "output_type": "stream",
     "text": [
      "[[0 0 0 0 0]\n",
      " [1 0 0 0 0]\n",
      " [0 2 0 0 0]\n",
      " [0 0 3 0 0]\n",
      " [0 0 0 4 0]]\n"
     ]
    }
   ],
   "source": [
    "Z = np.diag(1+np.arange(4), k=-1)\n",
    "print(Z)"
   ]
  },
  {
   "cell_type": "code",
   "execution_count": 18,
   "id": "4c5e804d-7d2d-4bbc-8f13-011fefe8e62e",
   "metadata": {},
   "outputs": [
    {
     "name": "stdout",
     "output_type": "stream",
     "text": [
      "[[0 1 0 1 0 1 0 1]\n",
      " [1 0 1 0 1 0 1 0]\n",
      " [0 1 0 1 0 1 0 1]\n",
      " [1 0 1 0 1 0 1 0]\n",
      " [0 1 0 1 0 1 0 1]\n",
      " [1 0 1 0 1 0 1 0]\n",
      " [0 1 0 1 0 1 0 1]\n",
      " [1 0 1 0 1 0 1 0]]\n"
     ]
    }
   ],
   "source": [
    "Z = np.zeros((8,8), dtype = int)\n",
    "Z[1::2, ::2] = 1\n",
    "Z[::2, 1::2] = 1\n",
    "print(Z)"
   ]
  },
  {
   "cell_type": "code",
   "execution_count": 19,
   "id": "26fa7fcb-b975-487f-b7d5-4679f013b946",
   "metadata": {},
   "outputs": [
    {
     "name": "stdout",
     "output_type": "stream",
     "text": [
      "(1, 5, 4)\n"
     ]
    }
   ],
   "source": [
    "print(np.unravel_index(100,(6,7,8)))"
   ]
  },
  {
   "cell_type": "code",
   "execution_count": 20,
   "id": "8ef5215c-9674-44c0-bb45-6a4e9097e5ff",
   "metadata": {},
   "outputs": [
    {
     "name": "stdout",
     "output_type": "stream",
     "text": [
      "[[0 1 0 1 0 1 0 1]\n",
      " [1 0 1 0 1 0 1 0]\n",
      " [0 1 0 1 0 1 0 1]\n",
      " [1 0 1 0 1 0 1 0]\n",
      " [0 1 0 1 0 1 0 1]\n",
      " [1 0 1 0 1 0 1 0]\n",
      " [0 1 0 1 0 1 0 1]\n",
      " [1 0 1 0 1 0 1 0]]\n"
     ]
    }
   ],
   "source": [
    "Z = np.tile(np.array([[0,1],[1,0]]), (4,4))\n",
    "print(Z)"
   ]
  },
  {
   "cell_type": "code",
   "execution_count": 21,
   "id": "4d96f330-8196-4492-9a43-813e7fd898a3",
   "metadata": {},
   "outputs": [
    {
     "name": "stdout",
     "output_type": "stream",
     "text": [
      "[[ 0.5737009   1.2215652  -1.629812   -1.64236374  1.06994364]\n",
      " [ 0.28178276  0.13134409 -1.48460661 -1.46182203  0.10508828]\n",
      " [ 1.1262467   0.89514088  1.44588306  1.41663286  0.70007131]\n",
      " [-0.57100082 -0.93070676 -0.44520602 -1.25758075 -1.26968614]\n",
      " [ 0.1748245   0.71825092 -0.08413023  0.36663954  0.54980044]]\n"
     ]
    }
   ],
   "source": [
    "Z = np.random.random((5,5))\n",
    "Z = (Z-np.mean (Z)) / (np.std (Z))\n",
    "print(Z)"
   ]
  },
  {
   "cell_type": "code",
   "execution_count": 22,
   "id": "d99bcfbb-44e2-421f-9db4-29874739c53d",
   "metadata": {},
   "outputs": [
    {
     "name": "stderr",
     "output_type": "stream",
     "text": [
      "C:\\Users\\Nikku28\\AppData\\Local\\Temp\\ipykernel_16092\\4273720647.py:1: FutureWarning: Passing (type, 1) or '1type' as a synonym of type is deprecated; in a future version of numpy, it will be understood as (type, (1,)) / '(1,)type'.\n",
      "  color = np.dtype([(\"r\", np.ubyte, 1),\n"
     ]
    }
   ],
   "source": [
    "color = np.dtype([(\"r\", np.ubyte, 1), \n",
    "                  (\"g\", np.ubyte, 1), \n",
    "                  (\"b\", np.ubyte, 1), \n",
    "                  (\"a\", np.ubyte, 1)])\n",
    "                 "
   ]
  },
  {
   "cell_type": "code",
   "execution_count": 23,
   "id": "dddc8ec0-e5bf-4610-b686-bec8359f4f39",
   "metadata": {},
   "outputs": [
    {
     "name": "stdout",
     "output_type": "stream",
     "text": [
      "[[3. 3.]\n",
      " [3. 3.]\n",
      " [3. 3.]\n",
      " [3. 3.]\n",
      " [3. 3.]]\n"
     ]
    }
   ],
   "source": [
    "Z = np.dot(np.ones((5,3)), np.ones((3,2)))\n",
    "print(Z)\n",
    "\n",
    "# Alternative solution \n",
    "Z=np.ones((5,3)) @ np.ones((3,2))"
   ]
  },
  {
   "cell_type": "code",
   "execution_count": 24,
   "id": "fa91d909-893f-4986-a560-a6879aa49c94",
   "metadata": {},
   "outputs": [
    {
     "name": "stdout",
     "output_type": "stream",
     "text": [
      "[ 0  1  2  3 -4 -5 -6 -7 -8  9 10]\n"
     ]
    }
   ],
   "source": [
    "Z = np.arange(11)\n",
    "Z[(3<Z) & (Z<=8)] *=-1\n",
    "print(Z)"
   ]
  },
  {
   "cell_type": "code",
   "execution_count": 25,
   "id": "df3a0d7c-5a3a-4d4e-a372-8c48a62297fa",
   "metadata": {},
   "outputs": [
    {
     "name": "stdout",
     "output_type": "stream",
     "text": [
      "9\n",
      "10\n"
     ]
    }
   ],
   "source": [
    "print(sum(range(5), -1))\n",
    "from numpy import *\n",
    "print(sum(range(5),-1))"
   ]
  },
  {
   "cell_type": "code",
   "execution_count": 30,
   "id": "642261fa-5a59-405e-974c-a73d0d4847c1",
   "metadata": {},
   "outputs": [
    {
     "ename": "ValueError",
     "evalue": "Integers to negative integer powers are not allowed.",
     "output_type": "error",
     "traceback": [
      "\u001b[1;31m---------------------------------------------------------------------------\u001b[0m",
      "\u001b[1;31mValueError\u001b[0m                                Traceback (most recent call last)",
      "Cell \u001b[1;32mIn[30], line 1\u001b[0m\n\u001b[1;32m----> 1\u001b[0m Z\u001b[38;5;241m*\u001b[39m\u001b[38;5;241m*\u001b[39mZ\n\u001b[0;32m      2\u001b[0m \u001b[38;5;241m2\u001b[39m \u001b[38;5;241m<<\u001b[39mz \u001b[38;5;241m>>\u001b[39m\u001b[38;5;241m2\u001b[39m\n\u001b[0;32m      3\u001b[0m Z \u001b[38;5;241m<\u001b[39m\u001b[38;5;241m-\u001b[39m Z\n",
      "\u001b[1;31mValueError\u001b[0m: Integers to negative integer powers are not allowed."
     ]
    }
   ],
   "source": [
    "Z**Z\n",
    "2 <<z >>2\n",
    "Z <- Z\n",
    "1j *Z\n",
    "Z/1/1\n",
    "Z<Z>Z"
   ]
  },
  {
   "cell_type": "code",
   "execution_count": 26,
   "id": "553313c9-5876-4e70-8629-f2a3fe8d5691",
   "metadata": {},
   "outputs": [
    {
     "name": "stdout",
     "output_type": "stream",
     "text": [
      "nan\n",
      "0\n",
      "[-2.14748365e+09]\n"
     ]
    },
    {
     "name": "stderr",
     "output_type": "stream",
     "text": [
      "C:\\Users\\Nikku28\\AppData\\Local\\Temp\\ipykernel_16092\\3912170336.py:1: RuntimeWarning: invalid value encountered in divide\n",
      "  print(np.array(0) / np.array(0))\n",
      "C:\\Users\\Nikku28\\AppData\\Local\\Temp\\ipykernel_16092\\3912170336.py:2: RuntimeWarning: divide by zero encountered in floor_divide\n",
      "  print(np.array(0) // np.array(0))\n",
      "C:\\Users\\Nikku28\\AppData\\Local\\Temp\\ipykernel_16092\\3912170336.py:3: RuntimeWarning: invalid value encountered in cast\n",
      "  print(np.array([np.nan]).astype(int).astype(float))\n"
     ]
    }
   ],
   "source": [
    "print(np.array(0) / np.array(0))\n",
    "print(np.array(0) // np.array(0))\n",
    "print(np.array([np.nan]).astype(int).astype(float))"
   ]
  },
  {
   "cell_type": "code",
   "execution_count": 27,
   "id": "18f8a68f-1c1c-4bbb-9068-8c9340ff0375",
   "metadata": {},
   "outputs": [
    {
     "name": "stdout",
     "output_type": "stream",
     "text": [
      "[-2. -4.  7.  5.  3. -9.  2. -9.  6.  2.]\n"
     ]
    }
   ],
   "source": [
    "Z = np.random.uniform(-10, +10, 10)\n",
    "print(np.copysign(np.ceil(np.abs(Z)), Z))"
   ]
  },
  {
   "cell_type": "code",
   "execution_count": 28,
   "id": "63c048e6-0840-4c98-943f-e4f1e21e91ef",
   "metadata": {},
   "outputs": [
    {
     "name": "stdout",
     "output_type": "stream",
     "text": [
      "[2 7 8 9]\n"
     ]
    }
   ],
   "source": [
    "Z1 = np.random.randint(0,10,10)\n",
    "Z2 = np.random.randint(0,10,10)\n",
    "print(np.intersect1d(Z1, Z2))"
   ]
  },
  {
   "cell_type": "code",
   "execution_count": 29,
   "id": "7d87dfde-c8d1-45b6-839d-7496302db82c",
   "metadata": {},
   "outputs": [
    {
     "ename": "SyntaxError",
     "evalue": "invalid syntax (397898606.py, line 4)",
     "output_type": "error",
     "traceback": [
      "\u001b[1;36m  Cell \u001b[1;32mIn[29], line 4\u001b[1;36m\u001b[0m\n\u001b[1;33m    - = np.seterr(**defaults)\u001b[0m\n\u001b[1;37m      ^\u001b[0m\n\u001b[1;31mSyntaxError\u001b[0m\u001b[1;31m:\u001b[0m invalid syntax\n"
     ]
    }
   ],
   "source": [
    "defaults = np.seterr(all=\"igmore\")\n",
    "Z = np.ones(1) / 0\n",
    "\n",
    "- = np.seterr(**defaults)\n",
    "\n",
    "An equivalent way, with a context manager:\n",
    "\n",
    "with np.errstate(divide='ignore'):\n",
    "Z = np.ones(1)/0"
   ]
  },
  {
   "cell_type": "code",
   "execution_count": 30,
   "id": "4d05fe23-a0a6-4721-b7f0-8b606c03880b",
   "metadata": {},
   "outputs": [
    {
     "name": "stderr",
     "output_type": "stream",
     "text": [
      "C:\\Users\\Nikku28\\AppData\\Local\\Temp\\ipykernel_16092\\244602691.py:1: RuntimeWarning: invalid value encountered in sqrt\n",
      "  np.sqrt(-1) == np.emath.sqrt(-1)\n"
     ]
    },
    {
     "data": {
      "text/plain": [
       "False"
      ]
     },
     "execution_count": 30,
     "metadata": {},
     "output_type": "execute_result"
    }
   ],
   "source": [
    "np.sqrt(-1) == np.emath.sqrt(-1)"
   ]
  },
  {
   "cell_type": "code",
   "execution_count": 31,
   "id": "aeeeebfc-31f6-4f50-a6dd-09dd6c7eee8f",
   "metadata": {},
   "outputs": [],
   "source": [
    "yesterday = np.datetime64('today', 'D') - np.timedelta64(1, 'D')\n",
    "today     = np.datetime64('today', 'D')\n",
    "tomorrow  = np.datetime64('today', 'D') + np.timedelta64(1, 'D')"
   ]
  },
  {
   "cell_type": "code",
   "execution_count": 32,
   "id": "dcd2de0a-c8fe-4476-a750-537315c19bd1",
   "metadata": {},
   "outputs": [
    {
     "name": "stdout",
     "output_type": "stream",
     "text": [
      "['2016-07-01' '2016-07-02' '2016-07-03' '2016-07-04' '2016-07-05'\n",
      " '2016-07-06' '2016-07-07' '2016-07-08' '2016-07-09' '2016-07-10'\n",
      " '2016-07-11' '2016-07-12' '2016-07-13' '2016-07-14' '2016-07-15'\n",
      " '2016-07-16' '2016-07-17' '2016-07-18' '2016-07-19' '2016-07-20'\n",
      " '2016-07-21' '2016-07-22' '2016-07-23' '2016-07-24' '2016-07-25'\n",
      " '2016-07-26' '2016-07-27' '2016-07-28' '2016-07-29' '2016-07-30'\n",
      " '2016-07-31']\n"
     ]
    }
   ],
   "source": [
    "Z = np.arange('2016-07', '2016-08', dtype='datetime64[D]')\n",
    "print(Z)"
   ]
  },
  {
   "cell_type": "code",
   "execution_count": 33,
   "id": "365c1cd4-c426-43b7-ac08-1ad304d071fe",
   "metadata": {},
   "outputs": [
    {
     "data": {
      "text/plain": [
       "array([-1.5, -1.5, -1.5])"
      ]
     },
     "execution_count": 33,
     "metadata": {},
     "output_type": "execute_result"
    }
   ],
   "source": [
    "A = np.ones(3)*1\n",
    "B = np.ones(3)*2\n",
    "C = np.ones(3)*3\n",
    "np.add(A,B, out=B)\n",
    "np.divide(A,2, out=A)\n",
    "np.negative(A, out=A)\n",
    "np.multiply(A,B, out=A)"
   ]
  },
  {
   "cell_type": "code",
   "execution_count": 34,
   "id": "b3a2cfec-87a3-41b4-8d9a-a722e8c36925",
   "metadata": {},
   "outputs": [
    {
     "name": "stdout",
     "output_type": "stream",
     "text": [
      "[0. 2. 5. 7. 8. 6. 2. 9. 6. 2.]\n",
      "[0. 2. 5. 7. 8. 6. 2. 9. 6. 2.]\n",
      "[0. 2. 5. 7. 8. 6. 2. 9. 6. 2.]\n",
      "[0 2 5 7 8 6 2 9 6 2]\n",
      "[0. 2. 5. 7. 8. 6. 2. 9. 6. 2.]\n"
     ]
    }
   ],
   "source": [
    "Z = np.random.uniform(0,10,10)\n",
    "\n",
    "print(Z - Z%1)\n",
    "print(np.floor(Z))\n",
    "print(np.ceil(Z)-1)\n",
    "print(Z.astype(int))\n",
    "print(np.trunc(Z))"
   ]
  },
  {
   "cell_type": "code",
   "execution_count": 35,
   "id": "6abfb9df-f9be-4b7a-ba7a-efed4ff5c09e",
   "metadata": {},
   "outputs": [
    {
     "name": "stdout",
     "output_type": "stream",
     "text": [
      "[[0. 1. 2. 3. 4.]\n",
      " [0. 1. 2. 3. 4.]\n",
      " [0. 1. 2. 3. 4.]\n",
      " [0. 1. 2. 3. 4.]\n",
      " [0. 1. 2. 3. 4.]]\n"
     ]
    }
   ],
   "source": [
    "Z = np.zeros((5,5))\n",
    "Z+= np.arange(5)\n",
    "print(Z)"
   ]
  },
  {
   "cell_type": "code",
   "execution_count": 36,
   "id": "dd8dcec6-9e4d-4143-878d-729d72732ad0",
   "metadata": {},
   "outputs": [
    {
     "name": "stdout",
     "output_type": "stream",
     "text": [
      "[0. 1. 2. 3. 4. 5. 6. 7. 8. 9.]\n"
     ]
    }
   ],
   "source": [
    "def generate() :\n",
    "    for x in range(10) :\n",
    "        yield x\n",
    "Z = np.fromiter(generate(), dtype=float, count=-1)\n",
    "print(Z)"
   ]
  },
  {
   "cell_type": "code",
   "execution_count": 37,
   "id": "b964c5c9-95df-4a59-a901-c355ff87be67",
   "metadata": {},
   "outputs": [
    {
     "name": "stdout",
     "output_type": "stream",
     "text": [
      "[0.09090909 0.18181818 0.27272727 0.36363636 0.45454545 0.54545455\n",
      " 0.63636364 0.72727273 0.81818182 0.90909091]\n"
     ]
    }
   ],
   "source": [
    "Z = np.linspace(0,1,11, endpoint=False) [1:]\n",
    "print(Z)"
   ]
  },
  {
   "cell_type": "code",
   "execution_count": 38,
   "id": "960dda75-99d9-4f68-88c8-66f2433bb587",
   "metadata": {},
   "outputs": [
    {
     "name": "stdout",
     "output_type": "stream",
     "text": [
      "[0.15060135 0.22367159 0.25213413 0.42544354 0.51631352 0.52842271\n",
      " 0.55012964 0.70718591 0.85622874 0.99279181]\n"
     ]
    }
   ],
   "source": [
    "Z = np.random.random(10)\n",
    "Z.sort()\n",
    "print(Z)"
   ]
  },
  {
   "cell_type": "code",
   "execution_count": 39,
   "id": "0def1dfd-0025-4cce-abc6-ee60f3ebdf66",
   "metadata": {},
   "outputs": [
    {
     "data": {
      "text/plain": [
       "45"
      ]
     },
     "execution_count": 39,
     "metadata": {},
     "output_type": "execute_result"
    }
   ],
   "source": [
    "Z = np.arange(10)\n",
    "np.add.reduce(Z)"
   ]
  },
  {
   "cell_type": "code",
   "execution_count": 40,
   "id": "f6dca8a9-9b6a-4bac-a2ca-6921c4938e6e",
   "metadata": {},
   "outputs": [
    {
     "name": "stdout",
     "output_type": "stream",
     "text": [
      "False\n",
      "False\n"
     ]
    }
   ],
   "source": [
    "# COnsider two random array A and B, check if they are equal\n",
    "\n",
    "A = np.random.randint(0,2,5)\n",
    "B = np.random.randint(0,2,5)\n",
    "\n",
    "equal = np.allclose(A,B)\n",
    "print(equal)\n",
    "\n",
    "equal = np.array_equal(A,B)\n",
    "print(equal)"
   ]
  },
  {
   "cell_type": "code",
   "execution_count": 41,
   "id": "9d9ed3c2-b841-4521-b8a7-a3fe581d619e",
   "metadata": {},
   "outputs": [
    {
     "ename": "ValueError",
     "evalue": "assignment destination is read-only",
     "output_type": "error",
     "traceback": [
      "\u001b[1;31m---------------------------------------------------------------------------\u001b[0m",
      "\u001b[1;31mValueError\u001b[0m                                Traceback (most recent call last)",
      "Cell \u001b[1;32mIn[41], line 3\u001b[0m\n\u001b[0;32m      1\u001b[0m Z \u001b[38;5;241m=\u001b[39m np\u001b[38;5;241m.\u001b[39mzeros(\u001b[38;5;241m10\u001b[39m)\n\u001b[0;32m      2\u001b[0m Z\u001b[38;5;241m.\u001b[39mflags\u001b[38;5;241m.\u001b[39mwriteable \u001b[38;5;241m=\u001b[39m \u001b[38;5;28;01mFalse\u001b[39;00m\n\u001b[1;32m----> 3\u001b[0m Z[\u001b[38;5;241m0\u001b[39m] \u001b[38;5;241m=\u001b[39m \u001b[38;5;241m1\u001b[39m\n",
      "\u001b[1;31mValueError\u001b[0m: assignment destination is read-only"
     ]
    }
   ],
   "source": [
    "Z = np.zeros(10)\n",
    "Z.flags.writeable = False\n",
    "Z[0] = 1"
   ]
  },
  {
   "cell_type": "code",
   "execution_count": 42,
   "id": "169fac70-dd5d-4a5d-8c48-9d989d12294e",
   "metadata": {},
   "outputs": [
    {
     "name": "stdout",
     "output_type": "stream",
     "text": [
      "[0.81246144 0.88226862 0.9841846  0.95403491 1.00852798 0.93488839\n",
      " 0.87275385 0.91560926 1.12608842 0.75202403]\n",
      "[0.51477267 0.77916092 1.52003543 0.80456092 0.33521365 1.43575822\n",
      " 1.44477661 1.1931332  0.70200967 1.37400415]\n"
     ]
    }
   ],
   "source": [
    "Z = np.random.random((10,2))\n",
    "X,Y = Z[:,0], Z[:, 1]\n",
    "R = np.sqrt(X**2+Y**2)\n",
    "T = np.arctan2(Y,X)\n",
    "print(R)\n",
    "print(T)"
   ]
  },
  {
   "cell_type": "code",
   "execution_count": 43,
   "id": "72ddfe06-20c0-40bd-ad7a-4eb661be722f",
   "metadata": {},
   "outputs": [
    {
     "name": "stdout",
     "output_type": "stream",
     "text": [
      "[0.25308582 0.         0.09023364 0.76690698 0.87641711 0.05725115\n",
      " 0.56353941 0.67484037 0.90656476 0.0164588 ]\n"
     ]
    }
   ],
   "source": [
    "Z = np.random.random(10)\n",
    "Z[Z.argmax()] = 0\n",
    "print(Z)"
   ]
  },
  {
   "cell_type": "code",
   "execution_count": 44,
   "id": "fa7ede23-a522-41d1-99f3-0932f2534c31",
   "metadata": {},
   "outputs": [
    {
     "name": "stdout",
     "output_type": "stream",
     "text": [
      "[[(0.  , 0.  ) (0.25, 0.  ) (0.5 , 0.  ) (0.75, 0.  ) (1.  , 0.  )]\n",
      " [(0.  , 0.25) (0.25, 0.25) (0.5 , 0.25) (0.75, 0.25) (1.  , 0.25)]\n",
      " [(0.  , 0.5 ) (0.25, 0.5 ) (0.5 , 0.5 ) (0.75, 0.5 ) (1.  , 0.5 )]\n",
      " [(0.  , 0.75) (0.25, 0.75) (0.5 , 0.75) (0.75, 0.75) (1.  , 0.75)]\n",
      " [(0.  , 1.  ) (0.25, 1.  ) (0.5 , 1.  ) (0.75, 1.  ) (1.  , 1.  )]]\n"
     ]
    }
   ],
   "source": [
    "Z = np.zeros((5,5), [('x' , float), ('y', float)])\n",
    "Z['x'], Z['y'] = np.meshgrid(np.linspace(0,1,5),\n",
    "                             np.linspace(0,1,5))\n",
    "print(Z)"
   ]
  },
  {
   "cell_type": "code",
   "execution_count": 45,
   "id": "0a45f998-0d75-471e-860f-319de78dfcd8",
   "metadata": {},
   "outputs": [
    {
     "name": "stdout",
     "output_type": "stream",
     "text": [
      "3638.1636371179666\n"
     ]
    }
   ],
   "source": [
    "X = np.arange(8)\n",
    "Y = X+0.5\n",
    "C = 1.0 / np.subtract.outer(X,Y)\n",
    "print(np.linalg.det(C))"
   ]
  },
  {
   "cell_type": "code",
   "execution_count": 46,
   "id": "6c07366f-12c5-44f5-8a32-90f2bf399d73",
   "metadata": {},
   "outputs": [
    {
     "name": "stdout",
     "output_type": "stream",
     "text": [
      "-128\n",
      "127\n",
      "-2147483648\n",
      "2147483647\n",
      "-9223372036854775808\n",
      "9223372036854775807\n",
      "-3.4028235e+38\n",
      "3.4028235e+38\n",
      "1.1920929e-07\n",
      "-1.7976931348623157e+308\n",
      "1.7976931348623157e+308\n",
      "2.220446049250313e-16\n"
     ]
    }
   ],
   "source": [
    "for dtype in [np.int8, np.int32, np.int64]:\n",
    "    print(np.iinfo(dtype).min)\n",
    "    print(np.iinfo(dtype).max)\n",
    "\n",
    "for dtype in [np.float32, np.float64]:\n",
    "    print(np.finfo(dtype).min)\n",
    "    print(np.finfo(dtype).max)\n",
    "    print(np.finfo(dtype).eps)\n",
    "    "
   ]
  },
  {
   "cell_type": "code",
   "execution_count": 64,
   "id": "79ea6839-77d8-49ae-9518-79cfd6c253bf",
   "metadata": {},
   "outputs": [
    {
     "ename": "ValueError",
     "evalue": "threshold must be non-NAN, try sys.maxsize for untruncated representation",
     "output_type": "error",
     "traceback": [
      "\u001b[1;31m---------------------------------------------------------------------------\u001b[0m",
      "\u001b[1;31mValueError\u001b[0m                                Traceback (most recent call last)",
      "Cell \u001b[1;32mIn[64], line 1\u001b[0m\n\u001b[1;32m----> 1\u001b[0m np\u001b[38;5;241m.\u001b[39mset_printoptions(threshold\u001b[38;5;241m=\u001b[39mnp\u001b[38;5;241m.\u001b[39mnan)\n\u001b[0;32m      2\u001b[0m Z \u001b[38;5;241m=\u001b[39m np\u001b[38;5;241m.\u001b[39mzeros((\u001b[38;5;241m16\u001b[39m,\u001b[38;5;241m16\u001b[39m))\n\u001b[0;32m      3\u001b[0m \u001b[38;5;28mprint\u001b[39m(Z)\n",
      "File \u001b[1;32m~\\anaconda3\\Lib\\site-packages\\numpy\\core\\arrayprint.py:277\u001b[0m, in \u001b[0;36mset_printoptions\u001b[1;34m(precision, threshold, edgeitems, linewidth, suppress, nanstr, infstr, formatter, sign, floatmode, legacy)\u001b[0m\n\u001b[0;32m    116\u001b[0m \u001b[38;5;129m@set_module\u001b[39m(\u001b[38;5;124m'\u001b[39m\u001b[38;5;124mnumpy\u001b[39m\u001b[38;5;124m'\u001b[39m)\n\u001b[0;32m    117\u001b[0m \u001b[38;5;28;01mdef\u001b[39;00m \u001b[38;5;21mset_printoptions\u001b[39m(precision\u001b[38;5;241m=\u001b[39m\u001b[38;5;28;01mNone\u001b[39;00m, threshold\u001b[38;5;241m=\u001b[39m\u001b[38;5;28;01mNone\u001b[39;00m, edgeitems\u001b[38;5;241m=\u001b[39m\u001b[38;5;28;01mNone\u001b[39;00m,\n\u001b[0;32m    118\u001b[0m                      linewidth\u001b[38;5;241m=\u001b[39m\u001b[38;5;28;01mNone\u001b[39;00m, suppress\u001b[38;5;241m=\u001b[39m\u001b[38;5;28;01mNone\u001b[39;00m, nanstr\u001b[38;5;241m=\u001b[39m\u001b[38;5;28;01mNone\u001b[39;00m, infstr\u001b[38;5;241m=\u001b[39m\u001b[38;5;28;01mNone\u001b[39;00m,\n\u001b[0;32m    119\u001b[0m                      formatter\u001b[38;5;241m=\u001b[39m\u001b[38;5;28;01mNone\u001b[39;00m, sign\u001b[38;5;241m=\u001b[39m\u001b[38;5;28;01mNone\u001b[39;00m, floatmode\u001b[38;5;241m=\u001b[39m\u001b[38;5;28;01mNone\u001b[39;00m, \u001b[38;5;241m*\u001b[39m, legacy\u001b[38;5;241m=\u001b[39m\u001b[38;5;28;01mNone\u001b[39;00m):\n\u001b[0;32m    120\u001b[0m \u001b[38;5;250m    \u001b[39m\u001b[38;5;124;03m\"\"\"\u001b[39;00m\n\u001b[0;32m    121\u001b[0m \u001b[38;5;124;03m    Set printing options.\u001b[39;00m\n\u001b[0;32m    122\u001b[0m \n\u001b[1;32m   (...)\u001b[0m\n\u001b[0;32m    275\u001b[0m \n\u001b[0;32m    276\u001b[0m \u001b[38;5;124;03m    \"\"\"\u001b[39;00m\n\u001b[1;32m--> 277\u001b[0m     opt \u001b[38;5;241m=\u001b[39m _make_options_dict(precision, threshold, edgeitems, linewidth,\n\u001b[0;32m    278\u001b[0m                              suppress, nanstr, infstr, sign, formatter,\n\u001b[0;32m    279\u001b[0m                              floatmode, legacy)\n\u001b[0;32m    280\u001b[0m     \u001b[38;5;66;03m# formatter is always reset\u001b[39;00m\n\u001b[0;32m    281\u001b[0m     opt[\u001b[38;5;124m'\u001b[39m\u001b[38;5;124mformatter\u001b[39m\u001b[38;5;124m'\u001b[39m] \u001b[38;5;241m=\u001b[39m formatter\n",
      "File \u001b[1;32m~\\anaconda3\\Lib\\site-packages\\numpy\\core\\arrayprint.py:103\u001b[0m, in \u001b[0;36m_make_options_dict\u001b[1;34m(precision, threshold, edgeitems, linewidth, suppress, nanstr, infstr, sign, formatter, floatmode, legacy)\u001b[0m\n\u001b[0;32m    101\u001b[0m         \u001b[38;5;28;01mraise\u001b[39;00m \u001b[38;5;167;01mTypeError\u001b[39;00m(\u001b[38;5;124m\"\u001b[39m\u001b[38;5;124mthreshold must be numeric\u001b[39m\u001b[38;5;124m\"\u001b[39m)\n\u001b[0;32m    102\u001b[0m     \u001b[38;5;28;01mif\u001b[39;00m np\u001b[38;5;241m.\u001b[39misnan(threshold):\n\u001b[1;32m--> 103\u001b[0m         \u001b[38;5;28;01mraise\u001b[39;00m \u001b[38;5;167;01mValueError\u001b[39;00m(\u001b[38;5;124m\"\u001b[39m\u001b[38;5;124mthreshold must be non-NAN, try \u001b[39m\u001b[38;5;124m\"\u001b[39m\n\u001b[0;32m    104\u001b[0m                          \u001b[38;5;124m\"\u001b[39m\u001b[38;5;124msys.maxsize for untruncated representation\u001b[39m\u001b[38;5;124m\"\u001b[39m)\n\u001b[0;32m    106\u001b[0m \u001b[38;5;28;01mif\u001b[39;00m precision \u001b[38;5;129;01mis\u001b[39;00m \u001b[38;5;129;01mnot\u001b[39;00m \u001b[38;5;28;01mNone\u001b[39;00m:\n\u001b[0;32m    107\u001b[0m     \u001b[38;5;66;03m# forbid the bad precision arg as suggested by issue #18254\u001b[39;00m\n\u001b[0;32m    108\u001b[0m     \u001b[38;5;28;01mtry\u001b[39;00m:\n",
      "\u001b[1;31mValueError\u001b[0m: threshold must be non-NAN, try sys.maxsize for untruncated representation"
     ]
    }
   ],
   "source": [
    "np.set_printoptions(threshold=np.nan)\n",
    "Z = np.zeros((16,16))\n",
    "print(Z)"
   ]
  },
  {
   "cell_type": "code",
   "execution_count": 47,
   "id": "5bd85dda-9be7-433b-914e-3f8ee40ce2d7",
   "metadata": {},
   "outputs": [
    {
     "name": "stdout",
     "output_type": "stream",
     "text": [
      "96\n"
     ]
    }
   ],
   "source": [
    "Z = np.arange(100)\n",
    "v = np.random.uniform(0,100)\n",
    "index = (np.abs(Z-v)).argmin()\n",
    "print(Z[index])"
   ]
  },
  {
   "cell_type": "code",
   "execution_count": 48,
   "id": "78b67581-f1a9-426e-b6e0-cc0b1e05bcae",
   "metadata": {},
   "outputs": [
    {
     "name": "stdout",
     "output_type": "stream",
     "text": [
      "[((0., 0.), (0., 0., 0.)) ((0., 0.), (0., 0., 0.))\n",
      " ((0., 0.), (0., 0., 0.)) ((0., 0.), (0., 0., 0.))\n",
      " ((0., 0.), (0., 0., 0.)) ((0., 0.), (0., 0., 0.))\n",
      " ((0., 0.), (0., 0., 0.)) ((0., 0.), (0., 0., 0.))\n",
      " ((0., 0.), (0., 0., 0.)) ((0., 0.), (0., 0., 0.))]\n"
     ]
    },
    {
     "name": "stderr",
     "output_type": "stream",
     "text": [
      "C:\\Users\\Nikku28\\AppData\\Local\\Temp\\ipykernel_16092\\274409719.py:1: FutureWarning: Passing (type, 1) or '1type' as a synonym of type is deprecated; in a future version of numpy, it will be understood as (type, (1,)) / '(1,)type'.\n",
      "  Z = np.zeros(10, [ ('position', [ ('x', float, 1),\n"
     ]
    }
   ],
   "source": [
    "Z = np.zeros(10, [ ('position', [ ('x', float, 1),\n",
    "                                  ('y', float, 1)]),\n",
    "                   ('color',    [ ('r', float, 1),\n",
    "                                  ('g', float, 1),\n",
    "                                  ('b', float, 1)])])\n",
    "print(Z)"
   ]
  },
  {
   "cell_type": "code",
   "execution_count": 68,
   "id": "cfa85667-4dfa-4abf-be24-84304b63c52c",
   "metadata": {},
   "outputs": [
    {
     "name": "stdout",
     "output_type": "stream",
     "text": [
      "[[0.         0.75422381 0.78681516 1.07636107 0.66324135 0.09765242\n",
      "  0.34686097 0.55113786 0.25035143 0.73175467]\n",
      " [0.75422381 0.         0.19544262 0.32545421 0.52431288 0.83704824\n",
      "  0.71393343 0.22911283 0.78519464 0.14075255]\n",
      " [0.78681516 0.19544262 0.         0.40077561 0.37590799 0.85492305\n",
      "  0.82781646 0.35963504 0.87424063 0.07316313]\n",
      " [1.07636107 0.32545421 0.40077561 0.         0.77618342 1.16119193\n",
      "  0.99348917 0.5324086  1.08266391 0.40427389]\n",
      " [0.66324135 0.52431288 0.37590799 0.77618342 0.         0.69222529\n",
      "  0.85918676 0.54417023 0.84760199 0.39112143]\n",
      " [0.09765242 0.83704824 0.85492305 1.16119193 0.69222529 0.\n",
      "  0.42968365 0.64129801 0.31792253 0.80417662]\n",
      " [0.34686097 0.71393343 0.82781646 0.99348917 0.85918676 0.42968365\n",
      "  0.         0.48561178 0.13271308 0.75729644]\n",
      " [0.55113786 0.22911283 0.35963504 0.5324086  0.54417023 0.64129801\n",
      "  0.48561178 0.         0.55714536 0.28649162]\n",
      " [0.25035143 0.78519464 0.87424063 1.08266391 0.84760199 0.31792253\n",
      "  0.13271308 0.55714536 0.         0.80747536]\n",
      " [0.73175467 0.14075255 0.07316313 0.40427389 0.39112143 0.80417662\n",
      "  0.75729644 0.28649162 0.80747536 0.        ]]\n",
      "[[0.         0.6550839  0.9107771  0.49444953 0.98753032 0.44066454\n",
      "  1.14949391 0.76330538 0.60835992 0.91050885]\n",
      " [0.6550839  0.         0.57070661 0.73020792 0.82608031 0.3873603\n",
      "  0.86126108 0.33967425 0.42665265 0.25992138]\n",
      " [0.9107771  0.57070661 0.         0.61087369 0.29876952 0.47182191\n",
      "  0.29151206 0.23111777 0.30254707 0.65480701]\n",
      " [0.49444953 0.73020792 0.61087369 0.         0.55717985 0.34291285\n",
      "  0.75944911 0.59477232 0.37681829 0.96617115]\n",
      " [0.98753032 0.82608031 0.29876952 0.55717985 0.         0.59803421\n",
      "  0.22150755 0.49916148 0.44185388 0.946428  ]\n",
      " [0.44066454 0.3873603  0.47182191 0.34291285 0.59803421 0.\n",
      "  0.72693906 0.33421559 0.17216087 0.62874104]\n",
      " [1.14949391 0.86126108 0.29151206 0.75944911 0.22150755 0.72693906\n",
      "  0.         0.52223099 0.55579491 0.9208242 ]\n",
      " [0.76330538 0.33967425 0.23111777 0.59477232 0.49916148 0.33421559\n",
      "  0.52223099 0.         0.21811001 0.45449998]\n",
      " [0.60835992 0.42665265 0.30254707 0.37681829 0.44185388 0.17216087\n",
      "  0.55579491 0.21811001 0.         0.62177613]\n",
      " [0.91050885 0.25992138 0.65480701 0.96617115 0.946428   0.62874104\n",
      "  0.9208242  0.45449998 0.62177613 0.        ]]\n"
     ]
    }
   ],
   "source": [
    "Z = np.random.random((10,2))\n",
    "X,Y = np.atleast_2d(Z[:, 0], Z[:, 1])\n",
    "D = np.sqrt((X-X.T)**2 + (Y-Y.T)**2)\n",
    "print(D)\n",
    "\n",
    "import scipy\n",
    "import scipy.spatial\n",
    "\n",
    "Z = np.random.random((10,2))\n",
    "D = scipy.spatial.distance.cdist(Z,Z)\n",
    "print(D)"
   ]
  },
  {
   "cell_type": "code",
   "execution_count": 49,
   "id": "111cfd65-3439-493b-96da-34556303eb2f",
   "metadata": {},
   "outputs": [
    {
     "name": "stdout",
     "output_type": "stream",
     "text": [
      "[0 1 2 3 4 5 6 7 8 9]\n"
     ]
    }
   ],
   "source": [
    "Z = np.arange(10, dtype=np.float32)\n",
    "Z = Z.astype(np.int32, copy=False)\n",
    "print(Z)"
   ]
  },
  {
   "cell_type": "code",
   "execution_count": 73,
   "id": "4d527175-a68a-4ab4-8032-69973f4e673c",
   "metadata": {},
   "outputs": [
    {
     "ename": "AttributeError",
     "evalue": "module 'numpy' has no attribute 'int'.\n`np.int` was a deprecated alias for the builtin `int`. To avoid this error in existing code, use `int` by itself. Doing this will not modify any behavior and is safe. When replacing `np.int`, you may wish to use e.g. `np.int64` or `np.int32` to specify the precision. If you wish to review your current use, check the release note link for additional information.\nThe aliases was originally deprecated in NumPy 1.20; for more details and guidance see the original release note at:\n    https://numpy.org/devdocs/release/1.20.0-notes.html#deprecations",
     "output_type": "error",
     "traceback": [
      "\u001b[1;31m---------------------------------------------------------------------------\u001b[0m",
      "\u001b[1;31mAttributeError\u001b[0m                            Traceback (most recent call last)",
      "Cell \u001b[1;32mIn[73], line 7\u001b[0m\n\u001b[0;32m      3\u001b[0m \u001b[38;5;66;03m# Fake file \u001b[39;00m\n\u001b[0;32m      4\u001b[0m s \u001b[38;5;241m=\u001b[39m StringIO(\u001b[38;5;124m\"\"\"\u001b[39m\u001b[38;5;124m1, 2, 3, 4, 5\u001b[39m\u001b[38;5;130;01m\\n\u001b[39;00m\n\u001b[0;32m      5\u001b[0m \u001b[38;5;124m                6,  ,  , 7, 8\u001b[39m\u001b[38;5;130;01m\\n\u001b[39;00m\n\u001b[0;32m      6\u001b[0m \u001b[38;5;124m                 ,  , 9,10,11\u001b[39m\u001b[38;5;130;01m\\n\u001b[39;00m\u001b[38;5;124m\"\"\"\u001b[39m)\n\u001b[1;32m----> 7\u001b[0m Z \u001b[38;5;241m=\u001b[39m np\u001b[38;5;241m.\u001b[39mgenfromtxt(s, delimiter\u001b[38;5;241m=\u001b[39m\u001b[38;5;124m\"\u001b[39m\u001b[38;5;124m,\u001b[39m\u001b[38;5;124m\"\u001b[39m, dtype\u001b[38;5;241m=\u001b[39mnp\u001b[38;5;241m.\u001b[39mint)\n\u001b[0;32m      8\u001b[0m \u001b[38;5;28mprint\u001b[39m(Z)\n",
      "File \u001b[1;32m~\\anaconda3\\Lib\\site-packages\\numpy\\__init__.py:324\u001b[0m, in \u001b[0;36m__getattr__\u001b[1;34m(attr)\u001b[0m\n\u001b[0;32m    319\u001b[0m     warnings\u001b[38;5;241m.\u001b[39mwarn(\n\u001b[0;32m    320\u001b[0m         \u001b[38;5;124mf\u001b[39m\u001b[38;5;124m\"\u001b[39m\u001b[38;5;124mIn the future `np.\u001b[39m\u001b[38;5;132;01m{\u001b[39;00mattr\u001b[38;5;132;01m}\u001b[39;00m\u001b[38;5;124m` will be defined as the \u001b[39m\u001b[38;5;124m\"\u001b[39m\n\u001b[0;32m    321\u001b[0m         \u001b[38;5;124m\"\u001b[39m\u001b[38;5;124mcorresponding NumPy scalar.\u001b[39m\u001b[38;5;124m\"\u001b[39m, \u001b[38;5;167;01mFutureWarning\u001b[39;00m, stacklevel\u001b[38;5;241m=\u001b[39m\u001b[38;5;241m2\u001b[39m)\n\u001b[0;32m    323\u001b[0m \u001b[38;5;28;01mif\u001b[39;00m attr \u001b[38;5;129;01min\u001b[39;00m __former_attrs__:\n\u001b[1;32m--> 324\u001b[0m     \u001b[38;5;28;01mraise\u001b[39;00m \u001b[38;5;167;01mAttributeError\u001b[39;00m(__former_attrs__[attr])\n\u001b[0;32m    326\u001b[0m \u001b[38;5;28;01mif\u001b[39;00m attr \u001b[38;5;241m==\u001b[39m \u001b[38;5;124m'\u001b[39m\u001b[38;5;124mtesting\u001b[39m\u001b[38;5;124m'\u001b[39m:\n\u001b[0;32m    327\u001b[0m     \u001b[38;5;28;01mimport\u001b[39;00m \u001b[38;5;21;01mnumpy\u001b[39;00m\u001b[38;5;21;01m.\u001b[39;00m\u001b[38;5;21;01mtesting\u001b[39;00m \u001b[38;5;28;01mas\u001b[39;00m \u001b[38;5;21;01mtesting\u001b[39;00m\n",
      "\u001b[1;31mAttributeError\u001b[0m: module 'numpy' has no attribute 'int'.\n`np.int` was a deprecated alias for the builtin `int`. To avoid this error in existing code, use `int` by itself. Doing this will not modify any behavior and is safe. When replacing `np.int`, you may wish to use e.g. `np.int64` or `np.int32` to specify the precision. If you wish to review your current use, check the release note link for additional information.\nThe aliases was originally deprecated in NumPy 1.20; for more details and guidance see the original release note at:\n    https://numpy.org/devdocs/release/1.20.0-notes.html#deprecations"
     ]
    }
   ],
   "source": []
  },
  {
   "cell_type": "code",
   "execution_count": 50,
   "id": "5e46d290-ed3f-4aa2-9a9d-04ce78993493",
   "metadata": {},
   "outputs": [
    {
     "name": "stdout",
     "output_type": "stream",
     "text": [
      "(0, 0) 0\n",
      "(0, 1) 1\n",
      "(0, 2) 2\n",
      "(1, 0) 3\n",
      "(1, 1) 4\n",
      "(1, 2) 5\n",
      "(2, 0) 6\n",
      "(2, 1) 7\n",
      "(2, 2) 8\n",
      "(0, 0) 0\n",
      "(0, 1) 1\n",
      "(0, 2) 2\n",
      "(1, 0) 3\n",
      "(1, 1) 4\n",
      "(1, 2) 5\n",
      "(2, 0) 6\n",
      "(2, 1) 7\n",
      "(2, 2) 8\n"
     ]
    }
   ],
   "source": [
    "Z = np.arange(9).reshape(3,3)\n",
    "for index, value in np.ndenumerate(Z):\n",
    "    print(index, value)\n",
    "for index in np.ndindex(Z.shape):\n",
    "    print(index, Z[index])\n"
   ]
  },
  {
   "cell_type": "code",
   "execution_count": 51,
   "id": "7cd75fec-de0b-4c88-aa9e-21bdaa306dd2",
   "metadata": {},
   "outputs": [
    {
     "name": "stdout",
     "output_type": "stream",
     "text": [
      "[[0.36787944 0.44822088 0.51979489 0.57375342 0.60279818 0.60279818\n",
      "  0.57375342 0.51979489 0.44822088 0.36787944]\n",
      " [0.44822088 0.54610814 0.63331324 0.69905581 0.73444367 0.73444367\n",
      "  0.69905581 0.63331324 0.54610814 0.44822088]\n",
      " [0.51979489 0.63331324 0.73444367 0.81068432 0.85172308 0.85172308\n",
      "  0.81068432 0.73444367 0.63331324 0.51979489]\n",
      " [0.57375342 0.69905581 0.81068432 0.89483932 0.9401382  0.9401382\n",
      "  0.89483932 0.81068432 0.69905581 0.57375342]\n",
      " [0.60279818 0.73444367 0.85172308 0.9401382  0.98773022 0.98773022\n",
      "  0.9401382  0.85172308 0.73444367 0.60279818]\n",
      " [0.60279818 0.73444367 0.85172308 0.9401382  0.98773022 0.98773022\n",
      "  0.9401382  0.85172308 0.73444367 0.60279818]\n",
      " [0.57375342 0.69905581 0.81068432 0.89483932 0.9401382  0.9401382\n",
      "  0.89483932 0.81068432 0.69905581 0.57375342]\n",
      " [0.51979489 0.63331324 0.73444367 0.81068432 0.85172308 0.85172308\n",
      "  0.81068432 0.73444367 0.63331324 0.51979489]\n",
      " [0.44822088 0.54610814 0.63331324 0.69905581 0.73444367 0.73444367\n",
      "  0.69905581 0.63331324 0.54610814 0.44822088]\n",
      " [0.36787944 0.44822088 0.51979489 0.57375342 0.60279818 0.60279818\n",
      "  0.57375342 0.51979489 0.44822088 0.36787944]]\n"
     ]
    }
   ],
   "source": [
    "X, Y = np.meshgrid(np.linspace(-1,1,10), np.linspace(-1,1,10))\n",
    "D = np.sqrt(X*X+Y*Y)\n",
    "sigma, mu = 1.0, 0.0\n",
    "G = np.exp(-( (D-mu)**2 / (2.0 * sigma**2 ) ) )\n",
    "print(G)"
   ]
  },
  {
   "cell_type": "code",
   "execution_count": 52,
   "id": "106e4683-a9a1-45f9-b36c-412cbd55ac33",
   "metadata": {},
   "outputs": [
    {
     "name": "stdout",
     "output_type": "stream",
     "text": [
      "[[0. 0. 0. 0. 0. 0. 0. 0. 0. 0.]\n",
      " [0. 0. 0. 0. 0. 0. 0. 0. 0. 0.]\n",
      " [0. 0. 0. 0. 0. 0. 0. 0. 0. 0.]\n",
      " [0. 0. 0. 0. 0. 0. 0. 0. 0. 0.]\n",
      " [0. 0. 0. 0. 0. 0. 0. 0. 0. 1.]\n",
      " [0. 0. 0. 0. 0. 0. 0. 0. 0. 0.]\n",
      " [0. 0. 0. 0. 0. 0. 0. 0. 0. 0.]\n",
      " [0. 0. 0. 0. 0. 0. 0. 0. 0. 0.]\n",
      " [1. 0. 0. 0. 0. 0. 0. 0. 0. 0.]\n",
      " [0. 0. 0. 0. 0. 0. 0. 0. 1. 0.]]\n"
     ]
    }
   ],
   "source": [
    "n= 10\n",
    "p = 3\n",
    "Z = np.zeros((n,n))\n",
    "np.put(Z, np.random.choice(range(n*n), p, replace=False),1)\n",
    "print(Z)"
   ]
  },
  {
   "cell_type": "code",
   "execution_count": 53,
   "id": "5824b2aa-1e3d-4e1d-a8f5-5c056d402c47",
   "metadata": {},
   "outputs": [
    {
     "name": "stdout",
     "output_type": "stream",
     "text": [
      "[[ 0.28876782  0.15202341  0.23737502 -0.24932931 -0.26522019 -0.17753915\n",
      "   0.36134099 -0.21412363  0.04577825 -0.1790732 ]\n",
      " [ 0.0699097   0.18662548 -0.29221053 -0.15438648 -0.23541488 -0.03052429\n",
      "   0.41263146  0.50908958 -0.4178024  -0.04791765]\n",
      " [-0.25930236 -0.11840878 -0.3080988  -0.04003572  0.4886229  -0.27237832\n",
      "   0.28487442 -0.2570866   0.41873206  0.06308121]\n",
      " [ 0.03727838  0.47153299  0.41079004  0.05415966 -0.17822015 -0.1117842\n",
      "  -0.07966162 -0.18205144 -0.27142822 -0.15061544]\n",
      " [-0.419496    0.11183425 -0.18079328 -0.3853651  -0.49947572  0.34695567\n",
      "   0.19008354  0.25319142  0.18000717  0.40305805]]\n"
     ]
    }
   ],
   "source": [
    "X = np.random.rand(5,10)\n",
    "Y = X - X.mean(axis=1, keepdims=True)\n",
    "Y = X - X.mean(axis=1).reshape(-1,1)\n",
    "print(Y)"
   ]
  },
  {
   "cell_type": "code",
   "execution_count": 54,
   "id": "fde3a840-b6b5-4407-80e7-cf8e3609c0e3",
   "metadata": {},
   "outputs": [
    {
     "name": "stdout",
     "output_type": "stream",
     "text": [
      "[[7 6 7]\n",
      " [1 4 4]\n",
      " [8 0 9]]\n",
      "[[8 0 9]\n",
      " [1 4 4]\n",
      " [7 6 7]]\n"
     ]
    }
   ],
   "source": [
    "Z = np.random.randint(0,10,(3,3))\n",
    "print(Z)\n",
    "print(Z[Z[:,1].argsort()])\n"
   ]
  },
  {
   "cell_type": "code",
   "execution_count": 55,
   "id": "7462181f-c75a-49bd-9c14-b9a5a8c4cfce",
   "metadata": {},
   "outputs": [
    {
     "name": "stdout",
     "output_type": "stream",
     "text": [
      "True\n"
     ]
    }
   ],
   "source": [
    "Z = np.random.randint(0,3,(3,10))\n",
    "print((~Z.any(axis=0)).any())"
   ]
  },
  {
   "cell_type": "code",
   "execution_count": 56,
   "id": "8a323086-ab07-4412-bc91-0146e58a8170",
   "metadata": {},
   "outputs": [
    {
     "name": "stdout",
     "output_type": "stream",
     "text": [
      "0.45395661517157226\n"
     ]
    }
   ],
   "source": [
    "Z = np.random.uniform(0,1,10)\n",
    "z = 0.5\n",
    "m = Z.flat[np.abs(Z-z).argmin()]\n",
    "print(m)"
   ]
  },
  {
   "cell_type": "code",
   "execution_count": 57,
   "id": "6505a255-e358-4e7e-8c5f-b1b73d829309",
   "metadata": {},
   "outputs": [
    {
     "name": "stdout",
     "output_type": "stream",
     "text": [
      "[[0 1 2]\n",
      " [1 2 3]\n",
      " [2 3 4]]\n"
     ]
    }
   ],
   "source": [
    "A = np.arange(3).reshape(3,1)\n",
    "B = np.arange(3).reshape(1,3)\n",
    "it = np.nditer([A,B, None])\n",
    "for x,y,z in it:z[...] = x+y\n",
    "print(it.operands[2])"
   ]
  },
  {
   "cell_type": "code",
   "execution_count": 58,
   "id": "f3c2d581-2a63-4840-934c-399d748dea73",
   "metadata": {},
   "outputs": [
    {
     "name": "stdout",
     "output_type": "stream",
     "text": [
      "range_10\n"
     ]
    }
   ],
   "source": [
    "class NamedArray(np.ndarray):\n",
    "    def __new__(cls, array, name=\"no name\"):\n",
    "        obj = np.asarray(array).view(cls)\n",
    "        obj.name = name\n",
    "        return obj\n",
    "    def __array_finalize__(self, obj):\n",
    "        if obj is None: return\n",
    "        self.info = getattr(obj, 'name', \"no name\")\n",
    "Z = NamedArray(np.arange(10), \"range_10\")\n",
    "print(Z.name)\n",
    "    "
   ]
  },
  {
   "cell_type": "code",
   "execution_count": 59,
   "id": "2d4d72bc-25e8-4e87-8c7c-a96adb7eb779",
   "metadata": {},
   "outputs": [
    {
     "name": "stdout",
     "output_type": "stream",
     "text": [
      "[3. 1. 5. 2. 5. 4. 3. 3. 2. 2.]\n",
      "[5. 1. 9. 3. 9. 7. 5. 5. 3. 3.]\n"
     ]
    }
   ],
   "source": [
    "Z = np.ones(10)\n",
    "I = np.random.randint(0,len(Z), 20)\n",
    "Z += np.bincount(I, minlength=len(Z))\n",
    "print(Z)\n",
    "\n",
    "np.add.at(Z, I, 1)\n",
    "print(Z)"
   ]
  },
  {
   "cell_type": "code",
   "execution_count": 60,
   "id": "593f39c3-84fe-45e1-b86e-2b09ecd3649c",
   "metadata": {},
   "outputs": [
    {
     "name": "stdout",
     "output_type": "stream",
     "text": [
      "[0. 7. 2. 4. 5. 0. 0. 0. 0. 3.]\n"
     ]
    }
   ],
   "source": [
    "X = [1,2,3,4,5,6]\n",
    "I = [1,2,9,3,4,1]\n",
    "F = np.bincount(I,X)\n",
    "print(F)"
   ]
  },
  {
   "cell_type": "code",
   "execution_count": 61,
   "id": "8be76d89-e1b5-4f26-a29a-4ddcf2014f1f",
   "metadata": {},
   "outputs": [
    {
     "name": "stdout",
     "output_type": "stream",
     "text": [
      "8\n"
     ]
    }
   ],
   "source": [
    "w,h = 16,16\n",
    "I = np.random.randint(0,2,(h,w,3)).astype(np.ubyte)\n",
    "F = I[...,0]*(256*256) + I[...,1]*256 +I[...,2]\n",
    "n = len(np.unique(F))\n",
    "print(n)"
   ]
  },
  {
   "cell_type": "code",
   "execution_count": 62,
   "id": "e44963bc-1498-4588-bd30-d5d8930bcb91",
   "metadata": {},
   "outputs": [
    {
     "name": "stdout",
     "output_type": "stream",
     "text": [
      "[[50 56 43 58]\n",
      " [53 33 49 60]\n",
      " [47 34 51 62]]\n",
      "[[50 56 43 58]\n",
      " [53 33 49 60]\n",
      " [47 34 51 62]]\n"
     ]
    }
   ],
   "source": [
    "A = np.random.randint(0,10,(3,4,3,4))\n",
    "sum = A.sum(axis=(-2,-1))\n",
    "print(sum)\n",
    "sum = A.reshape(A.shape[:-2] + (-1,)).sum(axis=-1)\n",
    "print(sum)"
   ]
  },
  {
   "cell_type": "code",
   "execution_count": 63,
   "id": "8ae42530-d95f-496f-a610-3d7d8c1a3ba8",
   "metadata": {},
   "outputs": [
    {
     "name": "stdout",
     "output_type": "stream",
     "text": [
      "[0.39056944 0.5092117  0.58712473 0.48789812 0.47050831 0.63998639\n",
      " 0.44865673 0.42537589 0.58991208 0.45410096]\n",
      "0    0.390569\n",
      "1    0.509212\n",
      "2    0.587125\n",
      "3    0.487898\n",
      "4    0.470508\n",
      "5    0.639986\n",
      "6    0.448657\n",
      "7    0.425376\n",
      "8    0.589912\n",
      "9    0.454101\n",
      "dtype: float64\n"
     ]
    }
   ],
   "source": [
    "\n",
    "D = np.random.uniform(0,1,100)\n",
    "S = np.random.randint(0,10,100)\n",
    "D_sums = np.bincount(S, weights=D)\n",
    "D_counts = np.bincount(S)\n",
    "D_means = D_sums / D_counts\n",
    "print(D_means)\n",
    "\n",
    "# Pandas solution as a reference due to more intuitive code\n",
    "import pandas as pd\n",
    "print(pd.Series(D).groupby(S).mean())\n"
   ]
  },
  {
   "cell_type": "code",
   "execution_count": 64,
   "id": "bc682f42-89e2-4759-8113-b2a0222bc2c5",
   "metadata": {},
   "outputs": [
    {
     "data": {
      "text/plain": [
       "array([0.6004819 , 0.66839572, 1.17937872, 0.62095209, 2.09020613])"
      ]
     },
     "execution_count": 64,
     "metadata": {},
     "output_type": "execute_result"
    }
   ],
   "source": [
    "A = np.random.uniform(0,1,(5,5))\n",
    "B = np.random.uniform(0,1,(5,5))\n",
    "\n",
    "np.diag(np.dot(A, B))\n",
    "np.sum(A*B.T, axis=1)\n",
    "np.einsum(\"ij,ji->i\", A, B)"
   ]
  },
  {
   "cell_type": "code",
   "execution_count": 65,
   "id": "b419420f-fe86-45fe-8ad4-f6d6b4df0179",
   "metadata": {},
   "outputs": [
    {
     "name": "stdout",
     "output_type": "stream",
     "text": [
      "[1. 0. 0. 0. 2. 0. 0. 0. 3. 0. 0. 0. 4. 0. 0. 0. 5.]\n"
     ]
    }
   ],
   "source": [
    "Z = np.array([1,2,3,4,5])\n",
    "nz = 3\n",
    "Z0 = np.zeros(len(Z) + (len(Z)-1)*(nz))\n",
    "Z0[::nz+1] = Z\n",
    "print(Z0)"
   ]
  },
  {
   "cell_type": "code",
   "execution_count": 66,
   "id": "d5d2c61f-1b3e-4839-bfd4-c4fcc4cc764c",
   "metadata": {},
   "outputs": [
    {
     "name": "stdout",
     "output_type": "stream",
     "text": [
      "[[[2. 2. 2.]\n",
      "  [2. 2. 2.]\n",
      "  [2. 2. 2.]\n",
      "  [2. 2. 2.]\n",
      "  [2. 2. 2.]]\n",
      "\n",
      " [[2. 2. 2.]\n",
      "  [2. 2. 2.]\n",
      "  [2. 2. 2.]\n",
      "  [2. 2. 2.]\n",
      "  [2. 2. 2.]]\n",
      "\n",
      " [[2. 2. 2.]\n",
      "  [2. 2. 2.]\n",
      "  [2. 2. 2.]\n",
      "  [2. 2. 2.]\n",
      "  [2. 2. 2.]]\n",
      "\n",
      " [[2. 2. 2.]\n",
      "  [2. 2. 2.]\n",
      "  [2. 2. 2.]\n",
      "  [2. 2. 2.]\n",
      "  [2. 2. 2.]]\n",
      "\n",
      " [[2. 2. 2.]\n",
      "  [2. 2. 2.]\n",
      "  [2. 2. 2.]\n",
      "  [2. 2. 2.]\n",
      "  [2. 2. 2.]]]\n"
     ]
    }
   ],
   "source": [
    "A = np.ones((5,5,3))\n",
    "B = 2*np.ones((5,5))\n",
    "print(A*B[:,:, None])"
   ]
  },
  {
   "cell_type": "code",
   "execution_count": 67,
   "id": "125762b3-d649-4257-8216-6ba867017db1",
   "metadata": {},
   "outputs": [
    {
     "name": "stdout",
     "output_type": "stream",
     "text": [
      "[[ 5  6  7  8  9]\n",
      " [ 0  1  2  3  4]\n",
      " [10 11 12 13 14]\n",
      " [15 16 17 18 19]\n",
      " [20 21 22 23 24]]\n"
     ]
    }
   ],
   "source": [
    "A = np.arange(25).reshape(5,5)\n",
    "A[[0,1]] = A[[1,0]]\n",
    "print(A)"
   ]
  },
  {
   "cell_type": "code",
   "execution_count": 69,
   "id": "6806b94c-a0d4-4b10-b0f3-8e35871ada69",
   "metadata": {},
   "outputs": [
    {
     "name": "stdout",
     "output_type": "stream",
     "text": [
      "[( 4,  8) ( 4, 17) ( 8, 17) ( 9, 21) ( 9, 30) ( 9, 56) ( 9, 60) (15, 32)\n",
      " (15, 36) (15, 73) (15, 76) (17, 26) (17, 49) (21, 30) (23, 26) (23, 96)\n",
      " (26, 49) (26, 96) (28, 39) (28, 47) (28, 59) (28, 63) (31, 63) (31, 92)\n",
      " (32, 76) (36, 73) (39, 63) (47, 59) (56, 60) (63, 92)]\n"
     ]
    }
   ],
   "source": [
    "faces = np.random.randint(0,100,(10,3))\n",
    "F = np.roll(faces.repeat(2,axis=1), -1, axis=1)\n",
    "F = F.reshape(len(F)*3,2)\n",
    "F = np.sort(F,axis=1)\n",
    "G = F.view( dtype=[('p0', F.dtype), ('p1', F.dtype)] )\n",
    "G = np.unique(G)\n",
    "print(G)"
   ]
  },
  {
   "cell_type": "code",
   "execution_count": 70,
   "id": "38ff1c7a-a277-4bdb-9997-dc4b3a1207cf",
   "metadata": {},
   "outputs": [
    {
     "name": "stdout",
     "output_type": "stream",
     "text": [
      "[1 1 2 3 4 4 6]\n"
     ]
    }
   ],
   "source": [
    "C = np.bincount([1,1,2,3,4,4,6])\n",
    "A = np.repeat(np.arange(len(C)), C)\n",
    "print(A)"
   ]
  },
  {
   "cell_type": "code",
   "execution_count": 71,
   "id": "28d1c846-76b4-4c4e-b724-2dde7f801987",
   "metadata": {},
   "outputs": [
    {
     "name": "stdout",
     "output_type": "stream",
     "text": [
      "[ 1.  2.  3.  4.  5.  6.  7.  8.  9. 10. 11. 12. 13. 14. 15. 16. 17. 18.]\n"
     ]
    }
   ],
   "source": [
    "def moving_average(a, n=3) :\n",
    "    ret = np.cumsum(a, dtype=float)\n",
    "    ret[n:] = ret[n:] - ret[:-n]\n",
    "    return ret[n -1:] / n\n",
    "Z = np.arange(20)\n",
    "print(moving_average(Z, n=3))\n"
   ]
  },
  {
   "cell_type": "code",
   "execution_count": 73,
   "id": "37479d75-87a8-49bd-be0c-f6914fe62084",
   "metadata": {},
   "outputs": [
    {
     "name": "stdout",
     "output_type": "stream",
     "text": [
      "[[0 1 2]\n",
      " [1 2 3]\n",
      " [2 3 4]\n",
      " [3 4 5]\n",
      " [4 5 6]\n",
      " [5 6 7]\n",
      " [6 7 8]\n",
      " [7 8 9]]\n"
     ]
    }
   ],
   "source": [
    "from numpy.lib import stride_tricks\n",
    "\n",
    "def rolling(a, window):\n",
    "    shape = (a.size - window+1, window)\n",
    "    strides = (a.itemsize, a.itemsize)\n",
    "    return stride_tricks.as_strided(a, shape=shape, strides=strides)\n",
    "Z = rolling(np.arange(10), 3)\n",
    "print(Z)"
   ]
  },
  {
   "cell_type": "code",
   "execution_count": 74,
   "id": "e00996f9-a8d7-458b-90ca-5a984fb44c43",
   "metadata": {},
   "outputs": [
    {
     "data": {
      "text/plain": [
       "array([ 0.49775286,  0.50784098, -0.89681538, -0.27320476,  0.56916   ,\n",
       "       -0.27624197,  0.74980352, -0.34717856, -0.49445716,  0.33458108,\n",
       "       -0.60878552,  0.1374897 ,  0.23244788, -0.08841094,  0.67275811,\n",
       "        0.85371219, -0.92300955, -0.8734372 ,  0.53022238,  0.25216556,\n",
       "        0.05443706,  0.17649953,  0.51985477, -0.3257714 , -0.57167632,\n",
       "       -0.37286533, -0.91025879,  0.10890402,  0.5400062 ,  0.22555499,\n",
       "        0.40079658,  0.15899154,  0.64345136, -0.65616635, -0.06263834,\n",
       "       -0.05114037, -0.96119985, -0.60581533, -0.5059241 , -0.76065791,\n",
       "       -0.48991731, -0.15317134,  0.5965052 ,  0.11632079,  0.86791089,\n",
       "       -0.42765879, -0.89512903,  0.88236321,  0.15661627,  0.30263096,\n",
       "       -0.40115321, -0.44637688,  0.19706848, -0.11706396, -0.52876418,\n",
       "        0.24586768, -0.36888658,  0.93514561,  0.59057113, -0.65911169,\n",
       "        0.5556869 , -0.57464078, -0.09664196, -0.82686463,  0.39362824,\n",
       "       -0.34033958,  0.68229052, -0.5436148 , -0.07841016,  0.16510943,\n",
       "       -0.04350985,  0.21663483,  0.16349213, -0.77130841, -0.27346267,\n",
       "        0.22761839, -0.16113869, -0.47826361,  0.30093032, -0.97806236,\n",
       "       -0.73515772,  0.18879672, -0.17896364,  0.92160224,  0.26537392,\n",
       "       -0.07901322, -0.06658497, -0.28254095, -0.52375642,  0.32743078,\n",
       "       -0.34857445,  0.64311588, -0.35163895, -0.82562918,  0.18429651,\n",
       "       -0.68488159,  0.94718053, -0.39161846,  0.66068837,  0.46588591])"
      ]
     },
     "execution_count": 74,
     "metadata": {},
     "output_type": "execute_result"
    }
   ],
   "source": [
    "Z = np.random.randint(0,2,100)\n",
    "np.logical_not(Z, out=Z)\n",
    "\n",
    "Z = np.random.uniform(-1.0,1.0,100)\n",
    "np.negative(Z, out=Z)"
   ]
  },
  {
   "cell_type": "code",
   "execution_count": 79,
   "id": "5af539c2-2d2f-4186-b29c-1ba79e3060fd",
   "metadata": {},
   "outputs": [
    {
     "name": "stdout",
     "output_type": "stream",
     "text": [
      "[11.66124909  7.38458912  1.01768241  3.23565867  9.25524634  2.94494957\n",
      "  5.20187793  1.25178676  8.05143109  7.04310277]\n"
     ]
    }
   ],
   "source": [
    "def distance(P0, P1, P):\n",
    "   T =  P1-P0\n",
    "   L = (T**2).sum(axis=1)\n",
    "   U = -((P0[:,0]-p[...,0])*T[:,0]+(P0[:,1]-p[...,1])*T[:,1])/L\n",
    "   U = U.reshape(len(U),1)\n",
    "   D = P0 + U*T - p\n",
    "   return np.sqrt((D**2).sum(axis=1))\n",
    "P0 = np.random.uniform(-10,10,(10,2))\n",
    "P1 = np.random.uniform(-10,10,(10,2))\n",
    "p = np.random.uniform(-10,10,(1,2))\n",
    "print(distance(P0,P1,p))\n",
    "    "
   ]
  },
  {
   "cell_type": "code",
   "execution_count": 80,
   "id": "08d4cc91-74e7-4662-badc-e063f657c9ad",
   "metadata": {},
   "outputs": [
    {
     "name": "stdout",
     "output_type": "stream",
     "text": [
      "[[5.43676675 4.27257485 1.83943103 4.58959432 7.18140892 4.30508895\n",
      "  5.92942389 0.27517898 1.32255477 7.02357523]\n",
      " [5.43676675 4.27257485 1.83943103 4.58959432 7.18140892 4.30508895\n",
      "  5.92942389 0.27517898 1.32255477 7.02357523]\n",
      " [5.43676675 4.27257485 1.83943103 4.58959432 7.18140892 4.30508895\n",
      "  5.92942389 0.27517898 1.32255477 7.02357523]\n",
      " [5.43676675 4.27257485 1.83943103 4.58959432 7.18140892 4.30508895\n",
      "  5.92942389 0.27517898 1.32255477 7.02357523]\n",
      " [5.43676675 4.27257485 1.83943103 4.58959432 7.18140892 4.30508895\n",
      "  5.92942389 0.27517898 1.32255477 7.02357523]\n",
      " [5.43676675 4.27257485 1.83943103 4.58959432 7.18140892 4.30508895\n",
      "  5.92942389 0.27517898 1.32255477 7.02357523]\n",
      " [5.43676675 4.27257485 1.83943103 4.58959432 7.18140892 4.30508895\n",
      "  5.92942389 0.27517898 1.32255477 7.02357523]\n",
      " [5.43676675 4.27257485 1.83943103 4.58959432 7.18140892 4.30508895\n",
      "  5.92942389 0.27517898 1.32255477 7.02357523]\n",
      " [5.43676675 4.27257485 1.83943103 4.58959432 7.18140892 4.30508895\n",
      "  5.92942389 0.27517898 1.32255477 7.02357523]\n",
      " [5.43676675 4.27257485 1.83943103 4.58959432 7.18140892 4.30508895\n",
      "  5.92942389 0.27517898 1.32255477 7.02357523]]\n"
     ]
    }
   ],
   "source": [
    "P0 = np.random.uniform(-10, 10, (10,2))\n",
    "P1 = np.random.uniform(-10, 10, (10,2))\n",
    "p = np.random.uniform(-10, 10, (10,2))\n",
    "print(np.array([distance(P0,P1,p_i) for p_i in p]))\n"
   ]
  },
  {
   "cell_type": "code",
   "execution_count": 85,
   "id": "33650280-26a9-4f41-bd80-74d474064b32",
   "metadata": {},
   "outputs": [
    {
     "ename": "IndexError",
     "evalue": "only integers, slices (`:`), ellipsis (`...`), numpy.newaxis (`None`) and integer or boolean arrays are valid indices",
     "output_type": "error",
     "traceback": [
      "\u001b[1;31m---------------------------------------------------------------------------\u001b[0m",
      "\u001b[1;31mIndexError\u001b[0m                                Traceback (most recent call last)",
      "Cell \u001b[1;32mIn[85], line 23\u001b[0m\n\u001b[0;32m     21\u001b[0m r \u001b[38;5;241m=\u001b[39m [\u001b[38;5;28mslice\u001b[39m(start,stop) \u001b[38;5;28;01mfor\u001b[39;00m start,stop \u001b[38;5;129;01min\u001b[39;00m \u001b[38;5;28mzip\u001b[39m(R_start,R_stop)]\n\u001b[0;32m     22\u001b[0m z \u001b[38;5;241m=\u001b[39m [\u001b[38;5;28mslice\u001b[39m(start,stop) \u001b[38;5;28;01mfor\u001b[39;00m start,stop \u001b[38;5;129;01min\u001b[39;00m \u001b[38;5;28mzip\u001b[39m(Z_start,Z_stop)]\n\u001b[1;32m---> 23\u001b[0m R[r] \u001b[38;5;241m=\u001b[39m Z[z]\n\u001b[0;32m     24\u001b[0m \u001b[38;5;28mprint\u001b[39m(Z)\n\u001b[0;32m     25\u001b[0m \u001b[38;5;28mprint\u001b[39m(R)\n",
      "\u001b[1;31mIndexError\u001b[0m: only integers, slices (`:`), ellipsis (`...`), numpy.newaxis (`None`) and integer or boolean arrays are valid indices"
     ]
    }
   ],
   "source": [
    "Z = np.random.randint(0,10,(10,10))\n",
    "shape = (5,5)\n",
    "fill  = 0\n",
    "position = (1,1)\n",
    "\n",
    "R = np.ones(shape, dtype=Z.dtype)*fill\n",
    "P  = np.array(list(position)).astype(int)\n",
    "Rs = np.array(list(R.shape)).astype(int)\n",
    "Zs = np.array(list(Z.shape)).astype(int)\n",
    "\n",
    "R_start = np.zeros((len(shape),)).astype(int)\n",
    "R_stop  = np.array(list(shape)).astype(int)\n",
    "Z_start = (P-Rs//2)\n",
    "Z_stop  = (P+Rs//2)+Rs%2\n",
    "\n",
    "R_start = (R_start - np.minimum(Z_start,0)).tolist()\n",
    "Z_start = (np.maximum(Z_start,0)).tolist()\n",
    "R_stop = np.maximum(R_start, (R_stop - np.maximum(Z_stop-Zs,0))).tolist()\n",
    "Z_stop = (np.minimum(Z_stop,Zs)).tolist()\n",
    "\n",
    "r = [slice(start,stop) for start,stop in zip(R_start,R_stop)]\n",
    "z = [slice(start,stop) for start,stop in zip(Z_start,Z_stop)]\n",
    "R[r] = Z[z]\n",
    "print(Z)\n",
    "print(R)"
   ]
  },
  {
   "cell_type": "code",
   "execution_count": 86,
   "id": "5357c01c-2614-4c51-b2a3-427c96b72811",
   "metadata": {},
   "outputs": [
    {
     "name": "stdout",
     "output_type": "stream",
     "text": [
      "[[ 1  2  3  4]\n",
      " [ 2  3  4  5]\n",
      " [ 3  4  5  6]\n",
      " [ 4  5  6  7]\n",
      " [ 5  6  7  8]\n",
      " [ 6  7  8  9]\n",
      " [ 7  8  9 10]\n",
      " [ 8  9 10 11]\n",
      " [ 9 10 11 12]\n",
      " [10 11 12 13]\n",
      " [11 12 13 14]]\n"
     ]
    }
   ],
   "source": [
    "Z = np.arange(1,15,dtype=np.uint32)\n",
    "R = stride_tricks.as_strided(Z,(11,4),(4,4))\n",
    "print(R)"
   ]
  },
  {
   "cell_type": "code",
   "execution_count": 87,
   "id": "3252e243-4d82-41fe-9a3e-2e48858078a2",
   "metadata": {},
   "outputs": [
    {
     "name": "stdout",
     "output_type": "stream",
     "text": [
      "10\n"
     ]
    }
   ],
   "source": [
    "Z = np.random.uniform(0,1,(10,10))\n",
    "U, S, V = np.linalg.svd(Z) # Singular value decomposition\n",
    "rank = np.sum(S> 1e-10)\n",
    "print(rank)\n"
   ]
  },
  {
   "cell_type": "code",
   "execution_count": 88,
   "id": "914415ea-f202-4391-92c7-3595dec44c52",
   "metadata": {},
   "outputs": [
    {
     "name": "stdout",
     "output_type": "stream",
     "text": [
      "9\n"
     ]
    }
   ],
   "source": [
    "Z = np.random.randint(0,10,50)\n",
    "print(np.bincount(Z).argmax())"
   ]
  },
  {
   "cell_type": "code",
   "execution_count": 89,
   "id": "cc8c99bd-159d-444f-90f3-67d1f5322fb7",
   "metadata": {},
   "outputs": [
    {
     "name": "stdout",
     "output_type": "stream",
     "text": [
      "[[[[2 4 2]\n",
      "   [1 4 2]\n",
      "   [3 3 2]]\n",
      "\n",
      "  [[4 2 2]\n",
      "   [4 2 1]\n",
      "   [3 2 4]]\n",
      "\n",
      "  [[2 2 3]\n",
      "   [2 1 4]\n",
      "   [2 4 2]]\n",
      "\n",
      "  [[2 3 0]\n",
      "   [1 4 4]\n",
      "   [4 2 0]]\n",
      "\n",
      "  [[3 0 3]\n",
      "   [4 4 4]\n",
      "   [2 0 0]]\n",
      "\n",
      "  [[0 3 3]\n",
      "   [4 4 0]\n",
      "   [0 0 4]]\n",
      "\n",
      "  [[3 3 3]\n",
      "   [4 0 4]\n",
      "   [0 4 0]]\n",
      "\n",
      "  [[3 3 4]\n",
      "   [0 4 4]\n",
      "   [4 0 1]]]\n",
      "\n",
      "\n",
      " [[[1 4 2]\n",
      "   [3 3 2]\n",
      "   [0 2 4]]\n",
      "\n",
      "  [[4 2 1]\n",
      "   [3 2 4]\n",
      "   [2 4 4]]\n",
      "\n",
      "  [[2 1 4]\n",
      "   [2 4 2]\n",
      "   [4 4 1]]\n",
      "\n",
      "  [[1 4 4]\n",
      "   [4 2 0]\n",
      "   [4 1 1]]\n",
      "\n",
      "  [[4 4 4]\n",
      "   [2 0 0]\n",
      "   [1 1 4]]\n",
      "\n",
      "  [[4 4 0]\n",
      "   [0 0 4]\n",
      "   [1 4 1]]\n",
      "\n",
      "  [[4 0 4]\n",
      "   [0 4 0]\n",
      "   [4 1 3]]\n",
      "\n",
      "  [[0 4 4]\n",
      "   [4 0 1]\n",
      "   [1 3 0]]]\n",
      "\n",
      "\n",
      " [[[3 3 2]\n",
      "   [0 2 4]\n",
      "   [1 1 4]]\n",
      "\n",
      "  [[3 2 4]\n",
      "   [2 4 4]\n",
      "   [1 4 1]]\n",
      "\n",
      "  [[2 4 2]\n",
      "   [4 4 1]\n",
      "   [4 1 4]]\n",
      "\n",
      "  [[4 2 0]\n",
      "   [4 1 1]\n",
      "   [1 4 1]]\n",
      "\n",
      "  [[2 0 0]\n",
      "   [1 1 4]\n",
      "   [4 1 0]]\n",
      "\n",
      "  [[0 0 4]\n",
      "   [1 4 1]\n",
      "   [1 0 0]]\n",
      "\n",
      "  [[0 4 0]\n",
      "   [4 1 3]\n",
      "   [0 0 2]]\n",
      "\n",
      "  [[4 0 1]\n",
      "   [1 3 0]\n",
      "   [0 2 4]]]\n",
      "\n",
      "\n",
      " [[[0 2 4]\n",
      "   [1 1 4]\n",
      "   [3 0 4]]\n",
      "\n",
      "  [[2 4 4]\n",
      "   [1 4 1]\n",
      "   [0 4 1]]\n",
      "\n",
      "  [[4 4 1]\n",
      "   [4 1 4]\n",
      "   [4 1 1]]\n",
      "\n",
      "  [[4 1 1]\n",
      "   [1 4 1]\n",
      "   [1 1 4]]\n",
      "\n",
      "  [[1 1 4]\n",
      "   [4 1 0]\n",
      "   [1 4 2]]\n",
      "\n",
      "  [[1 4 1]\n",
      "   [1 0 0]\n",
      "   [4 2 3]]\n",
      "\n",
      "  [[4 1 3]\n",
      "   [0 0 2]\n",
      "   [2 3 3]]\n",
      "\n",
      "  [[1 3 0]\n",
      "   [0 2 4]\n",
      "   [3 3 0]]]\n",
      "\n",
      "\n",
      " [[[1 1 4]\n",
      "   [3 0 4]\n",
      "   [0 4 2]]\n",
      "\n",
      "  [[1 4 1]\n",
      "   [0 4 1]\n",
      "   [4 2 3]]\n",
      "\n",
      "  [[4 1 4]\n",
      "   [4 1 1]\n",
      "   [2 3 1]]\n",
      "\n",
      "  [[1 4 1]\n",
      "   [1 1 4]\n",
      "   [3 1 2]]\n",
      "\n",
      "  [[4 1 0]\n",
      "   [1 4 2]\n",
      "   [1 2 1]]\n",
      "\n",
      "  [[1 0 0]\n",
      "   [4 2 3]\n",
      "   [2 1 4]]\n",
      "\n",
      "  [[0 0 2]\n",
      "   [2 3 3]\n",
      "   [1 4 0]]\n",
      "\n",
      "  [[0 2 4]\n",
      "   [3 3 0]\n",
      "   [4 0 0]]]\n",
      "\n",
      "\n",
      " [[[3 0 4]\n",
      "   [0 4 2]\n",
      "   [1 4 3]]\n",
      "\n",
      "  [[0 4 1]\n",
      "   [4 2 3]\n",
      "   [4 3 2]]\n",
      "\n",
      "  [[4 1 1]\n",
      "   [2 3 1]\n",
      "   [3 2 1]]\n",
      "\n",
      "  [[1 1 4]\n",
      "   [3 1 2]\n",
      "   [2 1 1]]\n",
      "\n",
      "  [[1 4 2]\n",
      "   [1 2 1]\n",
      "   [1 1 0]]\n",
      "\n",
      "  [[4 2 3]\n",
      "   [2 1 4]\n",
      "   [1 0 1]]\n",
      "\n",
      "  [[2 3 3]\n",
      "   [1 4 0]\n",
      "   [0 1 4]]\n",
      "\n",
      "  [[3 3 0]\n",
      "   [4 0 0]\n",
      "   [1 4 4]]]\n",
      "\n",
      "\n",
      " [[[0 4 2]\n",
      "   [1 4 3]\n",
      "   [2 4 2]]\n",
      "\n",
      "  [[4 2 3]\n",
      "   [4 3 2]\n",
      "   [4 2 3]]\n",
      "\n",
      "  [[2 3 1]\n",
      "   [3 2 1]\n",
      "   [2 3 0]]\n",
      "\n",
      "  [[3 1 2]\n",
      "   [2 1 1]\n",
      "   [3 0 2]]\n",
      "\n",
      "  [[1 2 1]\n",
      "   [1 1 0]\n",
      "   [0 2 0]]\n",
      "\n",
      "  [[2 1 4]\n",
      "   [1 0 1]\n",
      "   [2 0 4]]\n",
      "\n",
      "  [[1 4 0]\n",
      "   [0 1 4]\n",
      "   [0 4 1]]\n",
      "\n",
      "  [[4 0 0]\n",
      "   [1 4 4]\n",
      "   [4 1 3]]]\n",
      "\n",
      "\n",
      " [[[1 4 3]\n",
      "   [2 4 2]\n",
      "   [0 3 1]]\n",
      "\n",
      "  [[4 3 2]\n",
      "   [4 2 3]\n",
      "   [3 1 3]]\n",
      "\n",
      "  [[3 2 1]\n",
      "   [2 3 0]\n",
      "   [1 3 2]]\n",
      "\n",
      "  [[2 1 1]\n",
      "   [3 0 2]\n",
      "   [3 2 1]]\n",
      "\n",
      "  [[1 1 0]\n",
      "   [0 2 0]\n",
      "   [2 1 3]]\n",
      "\n",
      "  [[1 0 1]\n",
      "   [2 0 4]\n",
      "   [1 3 2]]\n",
      "\n",
      "  [[0 1 4]\n",
      "   [0 4 1]\n",
      "   [3 2 0]]\n",
      "\n",
      "  [[1 4 4]\n",
      "   [4 1 3]\n",
      "   [2 0 2]]]]\n"
     ]
    }
   ],
   "source": [
    "Z = np.random.randint(0,5,(10,10))\n",
    "n = 3\n",
    "i = 1+ (Z.shape[0]-3)\n",
    "j = 1+ (Z.shape[1]-3)\n",
    "C = stride_tricks.as_strided(Z, shape=(i,j,n,n), strides=Z.strides + Z.strides)\n",
    "print(C)"
   ]
  },
  {
   "cell_type": "code",
   "execution_count": 94,
   "id": "c824fd3b-6c2f-40e0-98f5-51925e65bec6",
   "metadata": {},
   "outputs": [
    {
     "name": "stdout",
     "output_type": "stream",
     "text": [
      "[[ 4  9  7 17  9]\n",
      " [ 9  7 10 16 11]\n",
      " [ 7 10  2 42  5]\n",
      " [17 16 42  3  2]\n",
      " [ 9 11  5  2  8]]\n"
     ]
    }
   ],
   "source": [
    "# note : Only works for 2d array and value setting using indices\n",
    "\n",
    "class Symetric(np.ndarray):\n",
    "    def __setitem__(self, index, value):\n",
    "        i,j = index\n",
    "        super(Symetric, self).__setitem__((i,j), value)\n",
    "        super(Symetric, self).__setitem__((j,i), value)\n",
    "\n",
    "def symetric(Z):\n",
    "    return np.asarray(Z + Z.T - np.diag(Z.diagonal())).view(Symetric)\n",
    "    \n",
    "S = symetric(np.random.randint(0,10,(5,5)))\n",
    "S[2,3] = 42\n",
    "print(S)"
   ]
  },
  {
   "cell_type": "code",
   "execution_count": 96,
   "id": "5825455c-4a5f-47e5-837c-54117f57d3f1",
   "metadata": {},
   "outputs": [
    {
     "name": "stdout",
     "output_type": "stream",
     "text": [
      "[[200.]\n",
      " [200.]\n",
      " [200.]\n",
      " [200.]\n",
      " [200.]\n",
      " [200.]\n",
      " [200.]\n",
      " [200.]\n",
      " [200.]\n",
      " [200.]\n",
      " [200.]\n",
      " [200.]\n",
      " [200.]\n",
      " [200.]\n",
      " [200.]\n",
      " [200.]\n",
      " [200.]\n",
      " [200.]\n",
      " [200.]\n",
      " [200.]]\n"
     ]
    }
   ],
   "source": [
    "p, n = 10, 20\n",
    "M = np.ones((p,n,n))\n",
    "V = np.ones((p,n,1))\n",
    "S = np.tensordot(M, V, axes=[[0, 2], [0, 1]])\n",
    "print(S)\n"
   ]
  },
  {
   "cell_type": "code",
   "execution_count": 99,
   "id": "0626b233-829a-4528-a34d-2ae041d74ffd",
   "metadata": {},
   "outputs": [
    {
     "name": "stdout",
     "output_type": "stream",
     "text": [
      "[[16. 16. 16. 16.]\n",
      " [16. 16. 16. 16.]\n",
      " [16. 16. 16. 16.]\n",
      " [16. 16. 16. 16.]]\n"
     ]
    }
   ],
   "source": [
    "Z = np.ones((16,16))\n",
    "K = 4\n",
    "S = np.add.reduceat(np.add.reduceat(Z, np.arange(0, Z.shape[0],K), axis = 0),np.arange(0,Z.shape[1],K),axis=1)\n",
    "print(S)\n",
    "                   "
   ]
  },
  {
   "cell_type": "code",
   "execution_count": 100,
   "id": "0258fa02-0aab-4d2a-b2f7-fd8a0848b3f1",
   "metadata": {},
   "outputs": [
    {
     "name": "stdout",
     "output_type": "stream",
     "text": [
      "[[0 0 0 ... 0 0 0]\n",
      " [0 0 0 ... 1 0 0]\n",
      " [0 0 0 ... 0 1 0]\n",
      " ...\n",
      " [0 0 0 ... 0 0 0]\n",
      " [0 0 0 ... 0 0 0]\n",
      " [0 0 0 ... 0 0 0]]\n"
     ]
    }
   ],
   "source": [
    "def iterate(Z):\n",
    "    # Count neighbours\n",
    "    N = (Z[0:-2,0:-2] + Z[0:-2,1:-1] + Z[0:-2,2:] +\n",
    "         Z[1:-1,0:-2]                + Z[1:-1,2:] +\n",
    "         Z[2:  ,0:-2] + Z[2:  ,1:-1] + Z[2:  ,2:])\n",
    "\n",
    "    # Apply rules\n",
    "    birth = (N==3) & (Z[1:-1,1:-1]==0)\n",
    "    survive = ((N==2) | (N==3)) & (Z[1:-1,1:-1]==1)\n",
    "    Z[...] = 0\n",
    "    Z[1:-1,1:-1][birth | survive] = 1\n",
    "    return Z\n",
    "\n",
    "Z = np.random.randint(0,2,(50,50))\n",
    "for i in range(100): Z = iterate(Z)\n",
    "print(Z)"
   ]
  },
  {
   "cell_type": "code",
   "execution_count": 101,
   "id": "dd2bf99c-c798-4668-a544-fb8b37f7f4d7",
   "metadata": {},
   "outputs": [
    {
     "name": "stdout",
     "output_type": "stream",
     "text": [
      "[9995 9996 9997 9998 9999]\n"
     ]
    }
   ],
   "source": [
    "Z = np.arange(10000)\n",
    "np.random.shuffle(Z)\n",
    "n = 5\n",
    "\n",
    "#slow\n",
    "print(Z[np.argsort(Z)[-n:]])\n"
   ]
  },
  {
   "cell_type": "code",
   "execution_count": 103,
   "id": "5b9c0300-545e-4199-aae7-5e47d95b651a",
   "metadata": {},
   "outputs": [
    {
     "name": "stdout",
     "output_type": "stream",
     "text": [
      "[[1 4 6]\n",
      " [1 4 7]\n",
      " [1 5 6]\n",
      " [1 5 7]\n",
      " [2 4 6]\n",
      " [2 4 7]\n",
      " [2 5 6]\n",
      " [2 5 7]\n",
      " [3 4 6]\n",
      " [3 4 7]\n",
      " [3 5 6]\n",
      " [3 5 7]]\n"
     ]
    }
   ],
   "source": [
    "def cartesian(arrays):\n",
    "    arrays = [np.asarray(a) for a in arrays]\n",
    "    shape = (len(x) for x in arrays)\n",
    "\n",
    "    ix = np.indices(shape, dtype=int)\n",
    "    ix = ix.reshape(len(arrays), -1).T\n",
    "\n",
    "    for n, arr in enumerate(arrays):\n",
    "        ix[:, n] = arrays[n][ix[:, n]]\n",
    "\n",
    "    return ix\n",
    "\n",
    "print (cartesian(([1, 2, 3], [4, 5], [6, 7])))\n",
    "    "
   ]
  },
  {
   "cell_type": "code",
   "execution_count": 104,
   "id": "9ea3fd8f-f01e-4d90-bac4-2d6ea7a3754f",
   "metadata": {},
   "outputs": [
    {
     "name": "stdout",
     "output_type": "stream",
     "text": [
      "[(b'Hello', 2.5, 3) (b'World', 3.6, 2)]\n"
     ]
    }
   ],
   "source": [
    "Z = np.array([(\"Hello\", 2.5, 3),\n",
    "              (\"World\", 3.6, 2)])\n",
    "R = np.core.records.fromarrays(Z.T, \n",
    "                               names='col1, col2, col3',\n",
    "                               formats = 'S8, f8, i8')\n",
    "print(R)"
   ]
  },
  {
   "cell_type": "code",
   "execution_count": 105,
   "id": "a5bfa93b-9470-4243-8326-0c1c3d3a73df",
   "metadata": {},
   "outputs": [
    {
     "ename": "TypeError",
     "evalue": "'float' object cannot be interpreted as an integer",
     "output_type": "error",
     "traceback": [
      "\u001b[1;31m---------------------------------------------------------------------------\u001b[0m",
      "\u001b[1;31mTypeError\u001b[0m                                 Traceback (most recent call last)",
      "Cell \u001b[1;32mIn[105], line 1\u001b[0m\n\u001b[1;32m----> 1\u001b[0m x \u001b[38;5;241m=\u001b[39m np\u001b[38;5;241m.\u001b[39mrandom\u001b[38;5;241m.\u001b[39mrand(\u001b[38;5;241m5e7\u001b[39m)\n\u001b[0;32m      3\u001b[0m get_ipython()\u001b[38;5;241m.\u001b[39mrun_line_magic(\u001b[38;5;124m'\u001b[39m\u001b[38;5;124mtimeit\u001b[39m\u001b[38;5;124m'\u001b[39m, \u001b[38;5;124m'\u001b[39m\u001b[38;5;124mnp.power(x,3)\u001b[39m\u001b[38;5;124m'\u001b[39m)\n\u001b[0;32m      4\u001b[0m get_ipython()\u001b[38;5;241m.\u001b[39mrun_line_magic(\u001b[38;5;124m'\u001b[39m\u001b[38;5;124mtimeit\u001b[39m\u001b[38;5;124m'\u001b[39m, \u001b[38;5;124m'\u001b[39m\u001b[38;5;124mx*x*x\u001b[39m\u001b[38;5;124m'\u001b[39m)\n",
      "File \u001b[1;32mnumpy\\\\random\\\\mtrand.pyx:1219\u001b[0m, in \u001b[0;36mnumpy.random.mtrand.RandomState.rand\u001b[1;34m()\u001b[0m\n",
      "File \u001b[1;32mnumpy\\\\random\\\\mtrand.pyx:437\u001b[0m, in \u001b[0;36mnumpy.random.mtrand.RandomState.random_sample\u001b[1;34m()\u001b[0m\n",
      "File \u001b[1;32m_common.pyx:307\u001b[0m, in \u001b[0;36mnumpy.random._common.double_fill\u001b[1;34m()\u001b[0m\n",
      "\u001b[1;31mTypeError\u001b[0m: 'float' object cannot be interpreted as an integer"
     ]
    }
   ],
   "source": [
    "x = np.random.rand(5e7)\n",
    "\n",
    "%timeit np.power(x,3)\n",
    "%timeit x*x*x\n",
    "%timeit np.einsum('i,i,i->i',x,x,x)"
   ]
  },
  {
   "cell_type": "code",
   "execution_count": 106,
   "id": "48577753-d18e-49a0-bd0c-2be24820508a",
   "metadata": {},
   "outputs": [
    {
     "name": "stdout",
     "output_type": "stream",
     "text": [
      "[0 1 3 6 7]\n"
     ]
    }
   ],
   "source": [
    "A = np.random.randint(0,5,(8,3))\n",
    "B = np.random.randint(0,5,(2,2))\n",
    "\n",
    "C = (A[..., np.newaxis, np.newaxis] == B)\n",
    "rows = np.where(C.any((3,1)).all(1))[0]\n",
    "print(rows)"
   ]
  },
  {
   "cell_type": "code",
   "execution_count": 107,
   "id": "0ca4e0fd-7bc0-4951-b6f7-fecb8d06b7f1",
   "metadata": {},
   "outputs": [
    {
     "name": "stdout",
     "output_type": "stream",
     "text": [
      "[[3 0 4]\n",
      " [2 3 4]\n",
      " [4 2 3]\n",
      " [3 4 4]\n",
      " [4 2 0]\n",
      " [0 0 1]\n",
      " [4 2 1]\n",
      " [2 3 1]\n",
      " [0 1 0]\n",
      " [2 4 0]]\n",
      "[[3 0 4]\n",
      " [2 3 4]\n",
      " [4 2 3]\n",
      " [3 4 4]\n",
      " [4 2 0]\n",
      " [0 0 1]\n",
      " [4 2 1]\n",
      " [2 3 1]\n",
      " [0 1 0]\n",
      " [2 4 0]]\n",
      "[[3 0 4]\n",
      " [2 3 4]\n",
      " [4 2 3]\n",
      " [3 4 4]\n",
      " [4 2 0]\n",
      " [0 0 1]\n",
      " [4 2 1]\n",
      " [2 3 1]\n",
      " [0 1 0]\n",
      " [2 4 0]]\n"
     ]
    }
   ],
   "source": [
    "Z = np.random.randint(0,5,(10,3))\n",
    "print(Z)\n",
    "# solution for arrays of all dtypes (including string arrays and record arrays)\n",
    "E = np.all(Z[:,1:] == Z[:,:-1], axis=1)\n",
    "U = Z[~E]\n",
    "print(U)\n",
    "# soluiton for numerical arrays only, will work for any number of columns in Z\n",
    "U = Z[Z.max(axis=1) != Z.min(axis=1),:]\n",
    "print(U)"
   ]
  },
  {
   "cell_type": "code",
   "execution_count": 108,
   "id": "f4dc332c-30d2-44eb-8d2f-c0c7e932c43f",
   "metadata": {},
   "outputs": [
    {
     "name": "stdout",
     "output_type": "stream",
     "text": [
      "[[0 0 0 0 0 0 0 0]\n",
      " [0 0 0 0 0 0 0 1]\n",
      " [0 0 0 0 0 0 1 0]\n",
      " [0 0 0 0 0 0 1 1]\n",
      " [0 0 0 0 1 1 1 1]\n",
      " [0 0 0 1 0 0 0 0]\n",
      " [0 0 1 0 0 0 0 0]\n",
      " [0 1 0 0 0 0 0 0]\n",
      " [1 0 0 0 0 0 0 0]]\n",
      "[[0 0 0 0 0 0 0 0]\n",
      " [0 0 0 0 0 0 0 1]\n",
      " [0 0 0 0 0 0 1 0]\n",
      " [0 0 0 0 0 0 1 1]\n",
      " [0 0 0 0 1 1 1 1]\n",
      " [0 0 0 1 0 0 0 0]\n",
      " [0 0 1 0 0 0 0 0]\n",
      " [0 1 0 0 0 0 0 0]\n",
      " [1 0 0 0 0 0 0 0]]\n"
     ]
    }
   ],
   "source": [
    "I = np.array([0, 1, 2, 3, 15, 16, 32, 64, 128])\n",
    "B = ((I.reshape(-1,1) & (2**np.arange(8))) != 0).astype(int)\n",
    "print(B[:,::-1])\n",
    "\n",
    "# Author: Daniel T. McDonald\n",
    "\n",
    "I = np.array([0, 1, 2, 3, 15, 16, 32, 64, 128], dtype=np.uint8)\n",
    "print(np.unpackbits(I[:, np.newaxis], axis=1))"
   ]
  },
  {
   "cell_type": "code",
   "execution_count": 109,
   "id": "5f9a7a2f-61b6-46d6-bc86-3493ddcf5697",
   "metadata": {},
   "outputs": [
    {
     "name": "stdout",
     "output_type": "stream",
     "text": [
      "[[0 0 0]\n",
      " [0 0 1]\n",
      " [0 1 0]\n",
      " [0 1 1]]\n",
      "[[0 0 0]\n",
      " [0 0 1]\n",
      " [0 1 0]\n",
      " [0 1 1]]\n"
     ]
    }
   ],
   "source": [
    "\n",
    "Z = np.random.randint(0,2,(6,3))\n",
    "T = np.ascontiguousarray(Z).view(np.dtype((np.void, Z.dtype.itemsize * Z.shape[1])))\n",
    "_, idx = np.unique(T, return_index=True)\n",
    "uZ = Z[idx]\n",
    "print(uZ)\n",
    "\n",
    "# Author: Andreas Kouzelis\n",
    "# NumPy >= 1.13\n",
    "uZ = np.unique(Z, axis=0)\n",
    "print(uZ)"
   ]
  },
  {
   "cell_type": "code",
   "execution_count": 110,
   "id": "fca0fd4a-44f9-46a1-aea5-967a4766de4d",
   "metadata": {},
   "outputs": [
    {
     "data": {
      "text/plain": [
       "array([[0.18601991, 0.09366664, 0.08294063, 0.12220999, 0.16523563,\n",
       "        0.10009306, 0.06055641, 0.18851114, 0.03215537, 0.19090249],\n",
       "       [0.41235854, 0.20763496, 0.18385815, 0.27090827, 0.36628512,\n",
       "        0.2218807 , 0.13423808, 0.41788097, 0.07128022, 0.42318197],\n",
       "       [0.58333375, 0.29372614, 0.26009081, 0.3832343 , 0.51815702,\n",
       "        0.31387855, 0.18989688, 0.59114592, 0.10083497, 0.59864487],\n",
       "       [0.68725662, 0.34605444, 0.30642686, 0.45150878, 0.61046844,\n",
       "        0.36979707, 0.22372765, 0.69646056, 0.11879906, 0.70529548],\n",
       "       [0.53151098, 0.26763181, 0.23698461, 0.34918815, 0.47212448,\n",
       "        0.2859939 , 0.17302663, 0.53862913, 0.09187689, 0.54546188],\n",
       "       [0.52163676, 0.26265984, 0.232582  , 0.34270107, 0.46335352,\n",
       "        0.28068081, 0.16981221, 0.52862267, 0.09017004, 0.53532849],\n",
       "       [0.0134548 , 0.0067749 , 0.00599909, 0.00883944, 0.01195148,\n",
       "        0.00723972, 0.00438004, 0.01363499, 0.00232579, 0.01380796],\n",
       "       [0.24372453, 0.12272265, 0.10866937, 0.16012034, 0.21649284,\n",
       "        0.1311426 , 0.07934142, 0.24698856, 0.04213018, 0.25012172],\n",
       "       [0.67715455, 0.34096774, 0.30192266, 0.44487199, 0.60149508,\n",
       "        0.36436138, 0.22043905, 0.6862232 , 0.11705281, 0.69492825],\n",
       "       [0.38078032, 0.19173438, 0.16977839, 0.25016224, 0.33823518,\n",
       "        0.20488918, 0.12395819, 0.38587984, 0.06582162, 0.3907749 ]])"
      ]
     },
     "execution_count": 110,
     "metadata": {},
     "output_type": "execute_result"
    }
   ],
   "source": [
    "A = np.random.uniform(0,1,10)\n",
    "B = np.random.uniform(0,1,10)\n",
    "\n",
    "np.einsum('i->', A)       # np.sum(A)\n",
    "np.einsum('i,i->i', A, B) # A * B\n",
    "np.einsum('i,i', A, B)    # np.inner(A, B)\n",
    "np.einsum('i,j->ij', A, B)    # np.outer(A, B)"
   ]
  },
  {
   "cell_type": "code",
   "execution_count": 111,
   "id": "669a1699-6514-4448-b003-d0b9d056d911",
   "metadata": {},
   "outputs": [],
   "source": [
    "phi = np.arange(0, 10*np.pi, 0.1)\n",
    "a = 1\n",
    "x = a*phi*np.cos(phi)\n",
    "y = a*phi*np.sin(phi)\n",
    "\n",
    "dr = (np.diff(x)**2 + np.diff(y)**2)**.5 # segment lengths\n",
    "r = np.zeros_like(x)\n",
    "r[1:] = np.cumsum(dr)                # integrate path\n",
    "r_int = np.linspace(0, r.max(), 200) # regular spaced path\n",
    "x_int = np.interp(r_int, r, x)       # integrate path\n",
    "y_int = np.interp(r_int, r, y)"
   ]
  },
  {
   "cell_type": "code",
   "execution_count": 112,
   "id": "ab4f8ee5-47e8-4361-92a7-5982871f4012",
   "metadata": {},
   "outputs": [
    {
     "name": "stdout",
     "output_type": "stream",
     "text": [
      "[[2. 0. 1. 1.]]\n"
     ]
    }
   ],
   "source": [
    "X = np.asarray([[1.0, 0.0, 3.0, 8.0],\n",
    "                [2.0, 0.0, 1.0, 1.0],\n",
    "                [1.5, 2.5, 1.0, 0.0]])\n",
    "n = 4\n",
    "M = np.logical_and.reduce(np.mod(X, 1) == 0, axis=-1)\n",
    "M &= (X.sum(axis=-1) == n)\n",
    "print(X[M])"
   ]
  },
  {
   "cell_type": "code",
   "execution_count": 113,
   "id": "aca4e03b-8240-4afa-8ed5-95895a2c7d66",
   "metadata": {},
   "outputs": [
    {
     "name": "stdout",
     "output_type": "stream",
     "text": [
      "[-0.21620696  0.17658821]\n"
     ]
    }
   ],
   "source": [
    "X = np.random.randn(100) # random 1D array\n",
    "N = 1000 # number of bootstrap samples\n",
    "idx = np.random.randint(0, X.size, (N, X.size))\n",
    "means = X[idx].mean(axis=1)\n",
    "confint = np.percentile(means, [2.5, 97.5])\n",
    "print(confint)"
   ]
  },
  {
   "cell_type": "code",
   "execution_count": null,
   "id": "59ccc81d-f9f6-47c4-9407-217dacfa1aee",
   "metadata": {},
   "outputs": [],
   "source": []
  }
 ],
 "metadata": {
  "kernelspec": {
   "display_name": "Python 3 (ipykernel)",
   "language": "python",
   "name": "python3"
  },
  "language_info": {
   "codemirror_mode": {
    "name": "ipython",
    "version": 3
   },
   "file_extension": ".py",
   "mimetype": "text/x-python",
   "name": "python",
   "nbconvert_exporter": "python",
   "pygments_lexer": "ipython3",
   "version": "3.11.7"
  }
 },
 "nbformat": 4,
 "nbformat_minor": 5
}
